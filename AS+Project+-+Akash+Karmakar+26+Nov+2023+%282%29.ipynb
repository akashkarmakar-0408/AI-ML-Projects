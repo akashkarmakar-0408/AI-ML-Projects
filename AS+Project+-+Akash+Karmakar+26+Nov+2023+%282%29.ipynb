{
 "cells": [
  {
   "cell_type": "code",
   "execution_count": 159,
   "id": "5759e22c",
   "metadata": {},
   "outputs": [],
   "source": [
    "#Impporting Libraries first\n",
    "\n",
    "import pandas as pd\n",
    "import numpy as np\n",
    "from scipy import stats\n",
    "import seaborn as sns\n",
    "import matplotlib.pyplot as plt\n",
    "%matplotlib inline\n",
    "from scipy.stats import ttest_ind  \n",
    "from statsmodels.stats.proportion import proportions_ztest  \n",
    "import statsmodels.api         as     sm\n",
    "from   statsmodels.formula.api import ols\n",
    "\n",
    "# to restrict the float value to 3 decimal places\n",
    "pd.set_option('display.float_format', lambda x: '%.3f' % x)"
   ]
  },
  {
   "cell_type": "markdown",
   "id": "f7879b08",
   "metadata": {},
   "source": [
    "## Part A - 15 Marks\n",
    "\n",
    "Question 1.A. Refer above table and find the joint probability of the people who planned to purchase and actually placed an order.\n",
    "\n",
    "As I can observe that 400 people planned to purchase and actually placed an order for Product A is 400 out of 2000 people. "
   ]
  },
  {
   "cell_type": "code",
   "execution_count": 2,
   "id": "01f1d108",
   "metadata": {},
   "outputs": [
    {
     "name": "stdout",
     "output_type": "stream",
     "text": [
      "Joint probability of the people who planned to purchase and actually placed an order. is 0.2000\n"
     ]
    }
   ],
   "source": [
    "# AP is the number of people who planned and actually placed an order for Product A\n",
    "AP = 400\n",
    "PP  = 2000\n",
    "PE6 = round(AP / PP,4) \n",
    "print('Joint probability of the people who planned to purchase and actually placed an order. is %1.4f' % PE6)"
   ]
  },
  {
   "cell_type": "markdown",
   "id": "617afcff",
   "metadata": {},
   "source": [
    "Question 1.B. Refer to the above table and find the joint probability of the people who planned to purchase and actually placed an order, given that people planned to purchase.\n",
    "\n",
    "P1 = P(Actually placed an order | Planned to purchase)\n",
    "\n",
    "P2 = Planned to purchase and actually placed an order\n",
    "\n",
    "P3 = Planned to purchase"
   ]
  },
  {
   "cell_type": "code",
   "execution_count": 3,
   "id": "82c2674d",
   "metadata": {},
   "outputs": [
    {
     "name": "stdout",
     "output_type": "stream",
     "text": [
      "P(Actually placed an order | Planned to purchase) is 0.8000\n"
     ]
    }
   ],
   "source": [
    "P1   = (400 / 2000 )/ (500 / 2000)\n",
    "\n",
    "print('P(Actually placed an order | Planned to purchase) is %1.4f' % P1) "
   ]
  },
  {
   "cell_type": "markdown",
   "id": "10d2ae49",
   "metadata": {},
   "source": [
    "Question 2. An electrical manufacturing company conducts quality checks at specified periods on the products it manufactures. Historically, the failure rate for the manufactured item is 5%. Suppose a random sample of 10 manufactured items is selected. Answer the following questions. [4 Marks] \n",
    "\n",
    "2.A. Probability that none of the items are defective? [1 Mark]\n",
    "\n",
    "2.B. Probability that exactly one of the items is defective? [1 Mark] \n",
    "\n",
    "2.C. Probability that two or fewer of the items are defective? [1 Mark] 2.D. Probability that three or more of the items are defective ? [1 Mark]"
   ]
  },
  {
   "cell_type": "code",
   "execution_count": 4,
   "id": "84bacbf2",
   "metadata": {},
   "outputs": [],
   "source": [
    "p   =  0.05 # failure rate for the manufactured item that the company manufactures is 5%\n",
    "n   =  10 # sample size\n",
    "k   =  np.arange(0,11) # An array of quantiles"
   ]
  },
  {
   "cell_type": "code",
   "execution_count": 5,
   "id": "ccbf8cc7",
   "metadata": {},
   "outputs": [],
   "source": [
    "binomial = stats.binom.pmf(k,n,p)"
   ]
  },
  {
   "cell_type": "code",
   "execution_count": 6,
   "id": "e1a42b81",
   "metadata": {},
   "outputs": [
    {
     "name": "stdout",
     "output_type": "stream",
     "text": [
      "[5.98736939e-01 3.15124705e-01 7.46347985e-02 1.04750594e-02\n",
      " 9.64808106e-04 6.09352488e-05 2.67259863e-06 8.03789062e-08\n",
      " 1.58642578e-09 1.85546875e-11 9.76562500e-14]\n"
     ]
    }
   ],
   "source": [
    "print(binomial)"
   ]
  },
  {
   "cell_type": "markdown",
   "id": "7b9a5324",
   "metadata": {},
   "source": [
    "2.A. Probability that none of the items are defective"
   ]
  },
  {
   "cell_type": "code",
   "execution_count": 7,
   "id": "0b592ebd",
   "metadata": {},
   "outputs": [
    {
     "name": "stdout",
     "output_type": "stream",
     "text": [
      "A.  Probability that none of the items are defective? is 0.5987\n"
     ]
    }
   ],
   "source": [
    "print('A.  Probability that none of the items are defective? is %1.4f' %binomial[0])"
   ]
  },
  {
   "cell_type": "markdown",
   "id": "424997c6",
   "metadata": {},
   "source": [
    "2.B. Probability that exactly one of the items is defective"
   ]
  },
  {
   "cell_type": "code",
   "execution_count": 8,
   "id": "3c9c287f",
   "metadata": {},
   "outputs": [
    {
     "name": "stdout",
     "output_type": "stream",
     "text": [
      "B. Probability that exactly one of the items is defective?  is 0.3151\n"
     ]
    }
   ],
   "source": [
    "print('B. Probability that exactly one of the items is defective?  is %1.4f' %binomial[1])"
   ]
  },
  {
   "cell_type": "markdown",
   "id": "8639b36f",
   "metadata": {},
   "source": [
    "2.C. Probability that two or fewer of the items are defective"
   ]
  },
  {
   "cell_type": "code",
   "execution_count": 9,
   "id": "99dfb577",
   "metadata": {},
   "outputs": [],
   "source": [
    "#To answer the question c)  Probability that two or fewer of the items are defective?\n",
    "#We need to calculate cumulative probability of Upto Two items being defective\n",
    "cumbinomial = stats.binom.cdf(k,n,p)"
   ]
  },
  {
   "cell_type": "code",
   "execution_count": 10,
   "id": "792f9b3f",
   "metadata": {},
   "outputs": [
    {
     "name": "stdout",
     "output_type": "stream",
     "text": [
      "[0.59873694 0.91386164 0.98849644 0.9989715  0.99993631 0.99999725\n",
      " 0.99999992 1.         1.         1.         1.        ]\n"
     ]
    }
   ],
   "source": [
    "print(cumbinomial)"
   ]
  },
  {
   "cell_type": "code",
   "execution_count": 11,
   "id": "b3652fde",
   "metadata": {},
   "outputs": [
    {
     "name": "stdout",
     "output_type": "stream",
     "text": [
      "C. Probability that two or fewer of the items are defective? is 0.9885\n"
     ]
    }
   ],
   "source": [
    "print('C. Probability that two or fewer of the items are defective? is %1.4f' %cumbinomial[2])"
   ]
  },
  {
   "cell_type": "markdown",
   "id": "73463414",
   "metadata": {},
   "source": [
    "2.D. Probability that three or more of the items are defective\n",
    "\n",
    "To calculate D. Probability that three or more of the items are defective? We need to subtract cumulative Probability upto 2 \n",
    "defective items from 1."
   ]
  },
  {
   "cell_type": "code",
   "execution_count": 13,
   "id": "a28c3c0d",
   "metadata": {},
   "outputs": [
    {
     "name": "stdout",
     "output_type": "stream",
     "text": [
      "D. Probability that three or more of the items are defective is 0.0115\n"
     ]
    }
   ],
   "source": [
    "P = 1- cumbinomial[2]\n",
    "print('D. Probability that three or more of the items are defective is %1.4f' % P)"
   ]
  },
  {
   "cell_type": "markdown",
   "id": "e9731997",
   "metadata": {},
   "source": [
    "Question3. A car salesman sells on an average 3 cars per week. [3 Marks] \n",
    "\n",
    "3.A. What is Probability that in a given week he will sell some cars? [1 Mark]\n",
    "\n",
    "3.B. What is Probability that in a given week he will sell 2 or more but less than 5 cars? [1 Mark]\n",
    "\n",
    "3.C. Plot the poisson distribution function for cumulative probability of cars sold per-week vs number of cars sold per week. [1 Mark]"
   ]
  },
  {
   "cell_type": "code",
   "execution_count": 15,
   "id": "8ababdf4",
   "metadata": {},
   "outputs": [
    {
     "name": "stdout",
     "output_type": "stream",
     "text": [
      "[0.04978707 0.19914827 0.42319008 0.64723189 0.81526324 0.91608206\n",
      " 0.96649146 0.9880955  0.99619701 0.99889751 0.99970766 0.99992861\n",
      " 0.99998385 0.9999966  0.99999933 0.99999988]\n"
     ]
    }
   ],
   "source": [
    "rate =  3 # which is the mean\n",
    "n    =  np.arange(0,16)\n",
    "cumpoisson = stats.poisson.cdf(n,rate)\n",
    "print(cumpoisson)"
   ]
  },
  {
   "cell_type": "markdown",
   "id": "8503fbd5",
   "metadata": {},
   "source": [
    "3.A. Probability that in a given week he will sell some cars\n"
   ]
  },
  {
   "cell_type": "code",
   "execution_count": 16,
   "id": "ee56a83c",
   "metadata": {},
   "outputs": [
    {
     "name": "stdout",
     "output_type": "stream",
     "text": [
      " Probability that in a given week he will sell some cars is 0.9502\n"
     ]
    }
   ],
   "source": [
    "\n",
    "#P4 = probability that the salesman sells some cars\n",
    "P4 = 1 - cumpoisson[0]\n",
    "print(' Probability that in a given week he will sell some cars is %1.4f' %P4)"
   ]
  },
  {
   "cell_type": "markdown",
   "id": "ff730f8c",
   "metadata": {},
   "source": [
    "3.B. Probability that in a given week he will sell 2 or more but less than 5 cars\n"
   ]
  },
  {
   "cell_type": "code",
   "execution_count": 17,
   "id": "2c702722",
   "metadata": {},
   "outputs": [
    {
     "name": "stdout",
     "output_type": "stream",
     "text": [
      " B. Probability that in a given week he will sell 2 or more but less than 5 cars is 0.6161\n"
     ]
    }
   ],
   "source": [
    "#Let P5 be the probability that the salesman sells more than 4 cars\n",
    "P5 = cumpoisson[4] # P(X >=4)\n",
    "#Let P6 be the probability that the salesman sells more than 1 car\n",
    "P6 = cumpoisson[1] # P(X >=1)\n",
    "P = P5- P6 # Prob. that the salesman will sell between 2 and 5 cars\n",
    "print(' B. Probability that in a given week he will sell 2 or more but less than 5 cars is %1.4f' %P)"
   ]
  },
  {
   "cell_type": "markdown",
   "id": "ac5c0faf",
   "metadata": {},
   "source": [
    "3.C. Plot the poisson distribution function for cumulative probability of cars sold per-week vs number of cars sold per week."
   ]
  },
  {
   "cell_type": "code",
   "execution_count": 18,
   "id": "0116f9c4",
   "metadata": {},
   "outputs": [
    {
     "data": {
      "image/png": "[encoded data removed]",
      "text/plain": [
       "<Figure size 640x480 with 1 Axes>"
      ]
     },
     "metadata": {},
     "output_type": "display_data"
    }
   ],
   "source": [
    "poisson = stats.poisson.cdf(n,rate)\n",
    "plt.plot(n,poisson, 'o-')\n",
    "plt.title('Poisson')\n",
    "plt.xlabel('Number of Cars sold per week')\n",
    "plt.ylabel('Cumulative Prob of Cars sold per week')\n",
    "plt.show()"
   ]
  },
  {
   "cell_type": "markdown",
   "id": "9df10f3e",
   "metadata": {},
   "source": [
    "Question 4.Accuracy in understanding orders for a speech based bot at a restaurant is important for the Company X which has designed,\n",
    "marketed and launched the product for a contactless delivery due to the COVID-19 pandemic. Recognition accuracy that measures the\n",
    "percentage of orders that are taken correctly is 86.8%. Suppose that you place an order with the bot and two friends of yours\n",
    "independently place orders with the same bot. Answer the following questions. [3 Marks] \n",
    "\n",
    "\n",
    "4.A. What is the probability that all three orders will be recognised correctly? [1 Mark]\n",
    "\n",
    "4.B. What is the probability that none of the three orders will be recognised correctly? [1 Mark] \n",
    "\n",
    "4.C. What is the probability that at least two of the three orders will be recognised correctly? [1 Mark]\n",
    "\n"
   ]
  },
  {
   "cell_type": "code",
   "execution_count": 19,
   "id": "16ec8f4e",
   "metadata": {},
   "outputs": [
    {
     "name": "stdout",
     "output_type": "stream",
     "text": [
      "[0.00229997 0.0453721  0.2983559  0.65397203 0.         0.\n",
      " 0.         0.         0.         0.         0.        ]\n"
     ]
    }
   ],
   "source": [
    "#Because there are three orders and the probability of a correct order being recognised is 0.868.\n",
    "p   =  0.868 # percentage of orders that are taken correctly is 86.8%\n",
    "n   =  3 # sample size\n",
    "k   =  np.arange(0,11)\n",
    "\n",
    "binomial = stats.binom.pmf(k,n,p)\n",
    "print(binomial)"
   ]
  },
  {
   "cell_type": "code",
   "execution_count": 20,
   "id": "65f2f609",
   "metadata": {},
   "outputs": [
    {
     "name": "stdout",
     "output_type": "stream",
     "text": [
      "The probability that all three orders will be recognised correctly is 0.6540\n"
     ]
    }
   ],
   "source": [
    "#Question 4.A.\n",
    "print('The probability that all three orders will be recognised correctly is %1.4f' %binomial[3])"
   ]
  },
  {
   "cell_type": "code",
   "execution_count": 21,
   "id": "1f6a6b8d",
   "metadata": {},
   "outputs": [
    {
     "name": "stdout",
     "output_type": "stream",
     "text": [
      "The probability that none of the three orders will be recognised correctly is 0.0023\n"
     ]
    }
   ],
   "source": [
    "#Question 4.B\n",
    "print('The probability that none of the three orders will be recognised correctly is %1.4f' %binomial[0])"
   ]
  },
  {
   "cell_type": "code",
   "execution_count": 22,
   "id": "4edf1f3c",
   "metadata": {},
   "outputs": [
    {
     "name": "stdout",
     "output_type": "stream",
     "text": [
      "The probability that at least two of the three orders will be recognised correctly is 0.9523\n"
     ]
    }
   ],
   "source": [
    "#Question 4.C  What is the probability that at least two of the three orders will be recognised correctly?\n",
    "\n",
    "#Let P be the Probability that at least two of the three orders will be recognised correctly\n",
    "\n",
    "#P1 is the\n",
    "P1 = binomial[2] #P1 probability when X=2\n",
    "P2 = binomial[3] #P2 probability when X=3\n",
    "P = P1+P2\n",
    "print('The probability that at least two of the three orders will be recognised correctly is %1.4f' %P)\n"
   ]
  },
  {
   "cell_type": "markdown",
   "id": "47eba30f",
   "metadata": {},
   "source": [
    "## 5. Explain 1 real life industry scenario (other than the ones mentioned above) where you can use the concepts learnt in this module of\n",
    "Applied Statistics to get data driven business solution. [3 Marks] "
   ]
  },
  {
   "cell_type": "markdown",
   "id": "f2c28507",
   "metadata": {},
   "source": [
    "Answer -\n",
    "\n",
    "Industy : Electrical Component Manufacturing \n",
    "Application : Product manufacture and Reliability Test\n",
    "\n",
    "Problem Statement :\n",
    "In Electrical products and systems real time data collection is done nowadays. Data comprising of parameters, measurements, temperatures, environmental conditions, failure rates are collected.\n",
    "\n",
    "Use of Statistics and Probability Theory:\n",
    "To draw conclusions regarding measurement variability from the data.\n",
    "\n",
    "To calculate the mean value of the product's nominal settings.\n",
    "\n",
    "To evaluate the product's dependability/reliability under different circumstances.\n",
    "\n"
   ]
  },
  {
   "cell_type": "markdown",
   "id": "cc22bf5f",
   "metadata": {},
   "source": [
    "## PART B - 30Marks"
   ]
  },
  {
   "cell_type": "code",
   "execution_count": 23,
   "id": "a3319732",
   "metadata": {},
   "outputs": [],
   "source": [
    "data = pd.read_csv('DS+-+Part2+-+Basketball.csv')"
   ]
  },
  {
   "cell_type": "code",
   "execution_count": 24,
   "id": "1ced16f2",
   "metadata": {},
   "outputs": [
    {
     "data": {
      "text/plain": [
       "(61, 13)"
      ]
     },
     "execution_count": 24,
     "metadata": {},
     "output_type": "execute_result"
    }
   ],
   "source": [
    "data.shape"
   ]
  },
  {
   "cell_type": "code",
   "execution_count": 25,
   "id": "48437fc9",
   "metadata": {},
   "outputs": [
    {
     "name": "stdout",
     "output_type": "stream",
     "text": [
      "There are 61 rows and 13 columns.\n"
     ]
    }
   ],
   "source": [
    "print(\"There are\", data.shape[0], 'rows and', data.shape[1], \"columns.\")\n"
   ]
  },
  {
   "cell_type": "code",
   "execution_count": 26,
   "id": "b04fa05f",
   "metadata": {},
   "outputs": [
    {
     "data": {
      "text/html": [
       "<div>\n",
       "<style scoped>\n",
       "    .dataframe tbody tr th:only-of-type {\n",
       "        vertical-align: middle;\n",
       "    }\n",
       "\n",
       "    .dataframe tbody tr th {\n",
       "        vertical-align: top;\n",
       "    }\n",
       "\n",
       "    .dataframe thead th {\n",
       "        text-align: right;\n",
       "    }\n",
       "</style>\n",
       "<table border=\"1\" class=\"dataframe\">\n",
       "  <thead>\n",
       "    <tr style=\"text-align: right;\">\n",
       "      <th></th>\n",
       "      <th>Team</th>\n",
       "      <th>Tournament</th>\n",
       "      <th>Score</th>\n",
       "      <th>PlayedGames</th>\n",
       "      <th>WonGames</th>\n",
       "      <th>DrawnGames</th>\n",
       "      <th>LostGames</th>\n",
       "      <th>BasketScored</th>\n",
       "      <th>BasketGiven</th>\n",
       "      <th>TournamentChampion</th>\n",
       "      <th>Runner-up</th>\n",
       "      <th>TeamLaunch</th>\n",
       "      <th>HighestPositionHeld</th>\n",
       "    </tr>\n",
       "  </thead>\n",
       "  <tbody>\n",
       "    <tr>\n",
       "      <th>0</th>\n",
       "      <td>Team 1</td>\n",
       "      <td>86</td>\n",
       "      <td>4385</td>\n",
       "      <td>2762</td>\n",
       "      <td>1647</td>\n",
       "      <td>552</td>\n",
       "      <td>563</td>\n",
       "      <td>5947</td>\n",
       "      <td>3140</td>\n",
       "      <td>33</td>\n",
       "      <td>23</td>\n",
       "      <td>1929</td>\n",
       "      <td>1</td>\n",
       "    </tr>\n",
       "    <tr>\n",
       "      <th>1</th>\n",
       "      <td>Team 2</td>\n",
       "      <td>86</td>\n",
       "      <td>4262</td>\n",
       "      <td>2762</td>\n",
       "      <td>1581</td>\n",
       "      <td>573</td>\n",
       "      <td>608</td>\n",
       "      <td>5900</td>\n",
       "      <td>3114</td>\n",
       "      <td>25</td>\n",
       "      <td>25</td>\n",
       "      <td>1929</td>\n",
       "      <td>1</td>\n",
       "    </tr>\n",
       "    <tr>\n",
       "      <th>2</th>\n",
       "      <td>Team 3</td>\n",
       "      <td>80</td>\n",
       "      <td>3442</td>\n",
       "      <td>2614</td>\n",
       "      <td>1241</td>\n",
       "      <td>598</td>\n",
       "      <td>775</td>\n",
       "      <td>4534</td>\n",
       "      <td>3309</td>\n",
       "      <td>10</td>\n",
       "      <td>8</td>\n",
       "      <td>1929</td>\n",
       "      <td>1</td>\n",
       "    </tr>\n",
       "    <tr>\n",
       "      <th>3</th>\n",
       "      <td>Team 4</td>\n",
       "      <td>82</td>\n",
       "      <td>3386</td>\n",
       "      <td>2664</td>\n",
       "      <td>1187</td>\n",
       "      <td>616</td>\n",
       "      <td>861</td>\n",
       "      <td>4398</td>\n",
       "      <td>3469</td>\n",
       "      <td>6</td>\n",
       "      <td>6</td>\n",
       "      <td>1931to32</td>\n",
       "      <td>1</td>\n",
       "    </tr>\n",
       "    <tr>\n",
       "      <th>4</th>\n",
       "      <td>Team 5</td>\n",
       "      <td>86</td>\n",
       "      <td>3368</td>\n",
       "      <td>2762</td>\n",
       "      <td>1209</td>\n",
       "      <td>633</td>\n",
       "      <td>920</td>\n",
       "      <td>4631</td>\n",
       "      <td>3700</td>\n",
       "      <td>8</td>\n",
       "      <td>7</td>\n",
       "      <td>1929</td>\n",
       "      <td>1</td>\n",
       "    </tr>\n",
       "  </tbody>\n",
       "</table>\n",
       "</div>"
      ],
      "text/plain": [
       "     Team  Tournament Score PlayedGames WonGames DrawnGames LostGames  \\\n",
       "0  Team 1          86  4385        2762     1647        552       563   \n",
       "1  Team 2          86  4262        2762     1581        573       608   \n",
       "2  Team 3          80  3442        2614     1241        598       775   \n",
       "3  Team 4          82  3386        2664     1187        616       861   \n",
       "4  Team 5          86  3368        2762     1209        633       920   \n",
       "\n",
       "  BasketScored BasketGiven TournamentChampion Runner-up TeamLaunch  \\\n",
       "0         5947        3140                 33        23       1929   \n",
       "1         5900        3114                 25        25       1929   \n",
       "2         4534        3309                 10         8       1929   \n",
       "3         4398        3469                  6         6   1931to32   \n",
       "4         4631        3700                  8         7       1929   \n",
       "\n",
       "   HighestPositionHeld  \n",
       "0                    1  \n",
       "1                    1  \n",
       "2                    1  \n",
       "3                    1  \n",
       "4                    1  "
      ]
     },
     "execution_count": 26,
     "metadata": {},
     "output_type": "execute_result"
    }
   ],
   "source": [
    "data.head()"
   ]
  },
  {
   "cell_type": "code",
   "execution_count": 27,
   "id": "d88f6243",
   "metadata": {},
   "outputs": [
    {
     "data": {
      "text/html": [
       "<div>\n",
       "<style scoped>\n",
       "    .dataframe tbody tr th:only-of-type {\n",
       "        vertical-align: middle;\n",
       "    }\n",
       "\n",
       "    .dataframe tbody tr th {\n",
       "        vertical-align: top;\n",
       "    }\n",
       "\n",
       "    .dataframe thead th {\n",
       "        text-align: right;\n",
       "    }\n",
       "</style>\n",
       "<table border=\"1\" class=\"dataframe\">\n",
       "  <thead>\n",
       "    <tr style=\"text-align: right;\">\n",
       "      <th></th>\n",
       "      <th>Team</th>\n",
       "      <th>Tournament</th>\n",
       "      <th>Score</th>\n",
       "      <th>PlayedGames</th>\n",
       "      <th>WonGames</th>\n",
       "      <th>DrawnGames</th>\n",
       "      <th>LostGames</th>\n",
       "      <th>BasketScored</th>\n",
       "      <th>BasketGiven</th>\n",
       "      <th>TournamentChampion</th>\n",
       "      <th>Runner-up</th>\n",
       "      <th>TeamLaunch</th>\n",
       "      <th>HighestPositionHeld</th>\n",
       "    </tr>\n",
       "  </thead>\n",
       "  <tbody>\n",
       "    <tr>\n",
       "      <th>56</th>\n",
       "      <td>Team 57</td>\n",
       "      <td>1</td>\n",
       "      <td>34</td>\n",
       "      <td>38</td>\n",
       "      <td>8</td>\n",
       "      <td>10</td>\n",
       "      <td>20</td>\n",
       "      <td>38</td>\n",
       "      <td>66</td>\n",
       "      <td>-</td>\n",
       "      <td>-</td>\n",
       "      <td>2009-10</td>\n",
       "      <td>20</td>\n",
       "    </tr>\n",
       "    <tr>\n",
       "      <th>57</th>\n",
       "      <td>Team 58</td>\n",
       "      <td>1</td>\n",
       "      <td>22</td>\n",
       "      <td>30</td>\n",
       "      <td>7</td>\n",
       "      <td>8</td>\n",
       "      <td>15</td>\n",
       "      <td>37</td>\n",
       "      <td>57</td>\n",
       "      <td>-</td>\n",
       "      <td>-</td>\n",
       "      <td>1956-57</td>\n",
       "      <td>16</td>\n",
       "    </tr>\n",
       "    <tr>\n",
       "      <th>58</th>\n",
       "      <td>Team 59</td>\n",
       "      <td>1</td>\n",
       "      <td>19</td>\n",
       "      <td>30</td>\n",
       "      <td>7</td>\n",
       "      <td>5</td>\n",
       "      <td>18</td>\n",
       "      <td>51</td>\n",
       "      <td>85</td>\n",
       "      <td>-</td>\n",
       "      <td>-</td>\n",
       "      <td>1951~52</td>\n",
       "      <td>16</td>\n",
       "    </tr>\n",
       "    <tr>\n",
       "      <th>59</th>\n",
       "      <td>Team 60</td>\n",
       "      <td>1</td>\n",
       "      <td>14</td>\n",
       "      <td>30</td>\n",
       "      <td>5</td>\n",
       "      <td>4</td>\n",
       "      <td>21</td>\n",
       "      <td>34</td>\n",
       "      <td>65</td>\n",
       "      <td>-</td>\n",
       "      <td>-</td>\n",
       "      <td>1955-56</td>\n",
       "      <td>15</td>\n",
       "    </tr>\n",
       "    <tr>\n",
       "      <th>60</th>\n",
       "      <td>Team 61</td>\n",
       "      <td>1</td>\n",
       "      <td>-</td>\n",
       "      <td>-</td>\n",
       "      <td>-</td>\n",
       "      <td>-</td>\n",
       "      <td>-</td>\n",
       "      <td>-</td>\n",
       "      <td>-</td>\n",
       "      <td>-</td>\n",
       "      <td>-</td>\n",
       "      <td>2017~18</td>\n",
       "      <td>9</td>\n",
       "    </tr>\n",
       "  </tbody>\n",
       "</table>\n",
       "</div>"
      ],
      "text/plain": [
       "       Team  Tournament Score PlayedGames WonGames DrawnGames LostGames  \\\n",
       "56  Team 57           1    34          38        8         10        20   \n",
       "57  Team 58           1    22          30        7          8        15   \n",
       "58  Team 59           1    19          30        7          5        18   \n",
       "59  Team 60           1    14          30        5          4        21   \n",
       "60  Team 61           1     -           -        -          -         -   \n",
       "\n",
       "   BasketScored BasketGiven TournamentChampion Runner-up TeamLaunch  \\\n",
       "56           38          66                  -         -    2009-10   \n",
       "57           37          57                  -         -    1956-57   \n",
       "58           51          85                  -         -    1951~52   \n",
       "59           34          65                  -         -    1955-56   \n",
       "60            -           -                  -         -    2017~18   \n",
       "\n",
       "    HighestPositionHeld  \n",
       "56                   20  \n",
       "57                   16  \n",
       "58                   16  \n",
       "59                   15  \n",
       "60                    9  "
      ]
     },
     "execution_count": 27,
     "metadata": {},
     "output_type": "execute_result"
    }
   ],
   "source": [
    "data.tail()"
   ]
  },
  {
   "cell_type": "code",
   "execution_count": 28,
   "id": "cf0dcf4c",
   "metadata": {},
   "outputs": [
    {
     "name": "stdout",
     "output_type": "stream",
     "text": [
      "<class 'pandas.core.frame.DataFrame'>\n",
      "RangeIndex: 61 entries, 0 to 60\n",
      "Data columns (total 13 columns):\n",
      " #   Column               Non-Null Count  Dtype \n",
      "---  ------               --------------  ----- \n",
      " 0   Team                 61 non-null     object\n",
      " 1   Tournament           61 non-null     int64 \n",
      " 2   Score                61 non-null     object\n",
      " 3   PlayedGames          61 non-null     object\n",
      " 4   WonGames             61 non-null     object\n",
      " 5   DrawnGames           61 non-null     object\n",
      " 6   LostGames            61 non-null     object\n",
      " 7   BasketScored         61 non-null     object\n",
      " 8   BasketGiven          61 non-null     object\n",
      " 9   TournamentChampion   61 non-null     object\n",
      " 10  Runner-up            61 non-null     object\n",
      " 11  TeamLaunch           61 non-null     object\n",
      " 12  HighestPositionHeld  61 non-null     int64 \n",
      "dtypes: int64(2), object(11)\n",
      "memory usage: 6.3+ KB\n"
     ]
    }
   ],
   "source": [
    "data.info()"
   ]
  },
  {
   "cell_type": "markdown",
   "id": "e3cc742f",
   "metadata": {},
   "source": [
    "## Observations\n",
    "The dataset contains 61 rows and 13 columns There are 2 integer columns and 11 object type columns. All columns are of type string where as only Tournament and HighestPositionHeld are of type integer But columns like Score, Played Games,WonGames, DrawnGames,Lost Games, BasketScored, BasketGiven, TournamentChampion, Runner-up, HighestPositionHeld should be integer type columns. TeamLaunch column should be a date time column. There are No null/missing values present in the dataset. There are rows or columns with value '-'. These needs to be replaced\n",
    "\n",
    "\n",
    "According to the dataset analysis, every attribute is quantitative, with the exception of TeamLaunch, which stands for a year. Therefore, we will impute 0 for each and every null or missing field. It is also necessary to clean up the TeamLaunch attribute so that it only contains the specific launch year."
   ]
  },
  {
   "cell_type": "markdown",
   "id": "d2a161e0",
   "metadata": {},
   "source": [
    "# Data Cleaning"
   ]
  },
  {
   "cell_type": "code",
   "execution_count": 29,
   "id": "7b200714",
   "metadata": {},
   "outputs": [],
   "source": [
    "#We need to replace '-' values everywhere\n",
    "\n",
    "# Replacing all '-' with 0\n",
    "data.replace(to_replace='-', value=0, inplace=True)"
   ]
  },
  {
   "cell_type": "code",
   "execution_count": 30,
   "id": "81cbdfce",
   "metadata": {},
   "outputs": [],
   "source": [
    "# Correction for TeamLaunch column\n",
    "data['TeamLaunch'] = data['TeamLaunch'].apply(lambda year: str(year)[:4])"
   ]
  },
  {
   "cell_type": "code",
   "execution_count": 31,
   "id": "9f6dda41",
   "metadata": {},
   "outputs": [],
   "source": [
    "#Converting the datatype of all columns to integer except for TeamName\n",
    "columns = data.columns\n",
    "data[columns[1:]] = data[columns[1:]].astype('int64')"
   ]
  },
  {
   "cell_type": "code",
   "execution_count": 32,
   "id": "243f2795",
   "metadata": {},
   "outputs": [
    {
     "data": {
      "text/plain": [
       "0"
      ]
     },
     "execution_count": 32,
     "metadata": {},
     "output_type": "execute_result"
    }
   ],
   "source": [
    "#Checking for Duplicate enteries in the data\n",
    "\n",
    "data.duplicated().sum()"
   ]
  },
  {
   "cell_type": "code",
   "execution_count": 33,
   "id": "92e5221c",
   "metadata": {},
   "outputs": [
    {
     "data": {
      "text/html": [
       "<div>\n",
       "<style scoped>\n",
       "    .dataframe tbody tr th:only-of-type {\n",
       "        vertical-align: middle;\n",
       "    }\n",
       "\n",
       "    .dataframe tbody tr th {\n",
       "        vertical-align: top;\n",
       "    }\n",
       "\n",
       "    .dataframe thead th {\n",
       "        text-align: right;\n",
       "    }\n",
       "</style>\n",
       "<table border=\"1\" class=\"dataframe\">\n",
       "  <thead>\n",
       "    <tr style=\"text-align: right;\">\n",
       "      <th></th>\n",
       "      <th>count</th>\n",
       "      <th>mean</th>\n",
       "      <th>std</th>\n",
       "      <th>min</th>\n",
       "      <th>25%</th>\n",
       "      <th>50%</th>\n",
       "      <th>75%</th>\n",
       "      <th>max</th>\n",
       "    </tr>\n",
       "  </thead>\n",
       "  <tbody>\n",
       "    <tr>\n",
       "      <th>Tournament</th>\n",
       "      <td>61.000</td>\n",
       "      <td>24.000</td>\n",
       "      <td>26.827</td>\n",
       "      <td>1.000</td>\n",
       "      <td>4.000</td>\n",
       "      <td>12.000</td>\n",
       "      <td>38.000</td>\n",
       "      <td>86.000</td>\n",
       "    </tr>\n",
       "    <tr>\n",
       "      <th>Score</th>\n",
       "      <td>61.000</td>\n",
       "      <td>901.426</td>\n",
       "      <td>1134.899</td>\n",
       "      <td>0.000</td>\n",
       "      <td>96.000</td>\n",
       "      <td>375.000</td>\n",
       "      <td>1351.000</td>\n",
       "      <td>4385.000</td>\n",
       "    </tr>\n",
       "    <tr>\n",
       "      <th>PlayedGames</th>\n",
       "      <td>61.000</td>\n",
       "      <td>796.820</td>\n",
       "      <td>876.283</td>\n",
       "      <td>0.000</td>\n",
       "      <td>114.000</td>\n",
       "      <td>423.000</td>\n",
       "      <td>1318.000</td>\n",
       "      <td>2762.000</td>\n",
       "    </tr>\n",
       "    <tr>\n",
       "      <th>WonGames</th>\n",
       "      <td>61.000</td>\n",
       "      <td>303.967</td>\n",
       "      <td>406.991</td>\n",
       "      <td>0.000</td>\n",
       "      <td>34.000</td>\n",
       "      <td>123.000</td>\n",
       "      <td>426.000</td>\n",
       "      <td>1647.000</td>\n",
       "    </tr>\n",
       "    <tr>\n",
       "      <th>DrawnGames</th>\n",
       "      <td>61.000</td>\n",
       "      <td>188.934</td>\n",
       "      <td>201.799</td>\n",
       "      <td>0.000</td>\n",
       "      <td>24.000</td>\n",
       "      <td>95.000</td>\n",
       "      <td>330.000</td>\n",
       "      <td>633.000</td>\n",
       "    </tr>\n",
       "    <tr>\n",
       "      <th>LostGames</th>\n",
       "      <td>61.000</td>\n",
       "      <td>303.754</td>\n",
       "      <td>294.709</td>\n",
       "      <td>0.000</td>\n",
       "      <td>62.000</td>\n",
       "      <td>197.000</td>\n",
       "      <td>563.000</td>\n",
       "      <td>1070.000</td>\n",
       "    </tr>\n",
       "    <tr>\n",
       "      <th>BasketScored</th>\n",
       "      <td>61.000</td>\n",
       "      <td>1140.344</td>\n",
       "      <td>1506.740</td>\n",
       "      <td>0.000</td>\n",
       "      <td>153.000</td>\n",
       "      <td>430.000</td>\n",
       "      <td>1642.000</td>\n",
       "      <td>5947.000</td>\n",
       "    </tr>\n",
       "    <tr>\n",
       "      <th>BasketGiven</th>\n",
       "      <td>61.000</td>\n",
       "      <td>1140.230</td>\n",
       "      <td>1163.711</td>\n",
       "      <td>0.000</td>\n",
       "      <td>221.000</td>\n",
       "      <td>632.000</td>\n",
       "      <td>1951.000</td>\n",
       "      <td>3889.000</td>\n",
       "    </tr>\n",
       "    <tr>\n",
       "      <th>TournamentChampion</th>\n",
       "      <td>61.000</td>\n",
       "      <td>1.426</td>\n",
       "      <td>5.473</td>\n",
       "      <td>0.000</td>\n",
       "      <td>0.000</td>\n",
       "      <td>0.000</td>\n",
       "      <td>0.000</td>\n",
       "      <td>33.000</td>\n",
       "    </tr>\n",
       "    <tr>\n",
       "      <th>Runner-up</th>\n",
       "      <td>61.000</td>\n",
       "      <td>1.410</td>\n",
       "      <td>4.540</td>\n",
       "      <td>0.000</td>\n",
       "      <td>0.000</td>\n",
       "      <td>0.000</td>\n",
       "      <td>0.000</td>\n",
       "      <td>25.000</td>\n",
       "    </tr>\n",
       "    <tr>\n",
       "      <th>TeamLaunch</th>\n",
       "      <td>61.000</td>\n",
       "      <td>1958.918</td>\n",
       "      <td>27.484</td>\n",
       "      <td>1929.000</td>\n",
       "      <td>1935.000</td>\n",
       "      <td>1951.000</td>\n",
       "      <td>1978.000</td>\n",
       "      <td>2017.000</td>\n",
       "    </tr>\n",
       "    <tr>\n",
       "      <th>HighestPositionHeld</th>\n",
       "      <td>61.000</td>\n",
       "      <td>7.082</td>\n",
       "      <td>5.277</td>\n",
       "      <td>1.000</td>\n",
       "      <td>3.000</td>\n",
       "      <td>6.000</td>\n",
       "      <td>10.000</td>\n",
       "      <td>20.000</td>\n",
       "    </tr>\n",
       "  </tbody>\n",
       "</table>\n",
       "</div>"
      ],
      "text/plain": [
       "                     count     mean      std      min      25%      50%  \\\n",
       "Tournament          61.000   24.000   26.827    1.000    4.000   12.000   \n",
       "Score               61.000  901.426 1134.899    0.000   96.000  375.000   \n",
       "PlayedGames         61.000  796.820  876.283    0.000  114.000  423.000   \n",
       "WonGames            61.000  303.967  406.991    0.000   34.000  123.000   \n",
       "DrawnGames          61.000  188.934  201.799    0.000   24.000   95.000   \n",
       "LostGames           61.000  303.754  294.709    0.000   62.000  197.000   \n",
       "BasketScored        61.000 1140.344 1506.740    0.000  153.000  430.000   \n",
       "BasketGiven         61.000 1140.230 1163.711    0.000  221.000  632.000   \n",
       "TournamentChampion  61.000    1.426    5.473    0.000    0.000    0.000   \n",
       "Runner-up           61.000    1.410    4.540    0.000    0.000    0.000   \n",
       "TeamLaunch          61.000 1958.918   27.484 1929.000 1935.000 1951.000   \n",
       "HighestPositionHeld 61.000    7.082    5.277    1.000    3.000    6.000   \n",
       "\n",
       "                         75%      max  \n",
       "Tournament            38.000   86.000  \n",
       "Score               1351.000 4385.000  \n",
       "PlayedGames         1318.000 2762.000  \n",
       "WonGames             426.000 1647.000  \n",
       "DrawnGames           330.000  633.000  \n",
       "LostGames            563.000 1070.000  \n",
       "BasketScored        1642.000 5947.000  \n",
       "BasketGiven         1951.000 3889.000  \n",
       "TournamentChampion     0.000   33.000  \n",
       "Runner-up              0.000   25.000  \n",
       "TeamLaunch          1978.000 2017.000  \n",
       "HighestPositionHeld   10.000   20.000  "
      ]
     },
     "execution_count": 33,
     "metadata": {},
     "output_type": "execute_result"
    }
   ],
   "source": [
    "#Checking the statistical summary\n",
    "data.describe().T\n"
   ]
  },
  {
   "cell_type": "markdown",
   "id": "5f088b7a",
   "metadata": {},
   "source": [
    "# Observations:\n",
    "\n",
    "1.Tournament: Average number of tournaments played is 24 by any team with Maximum tournaments played is 86 and minimum played is 1 \n",
    "\n",
    "2.Score: Average score of the all the teams is 901. The maximum score by any team is 4385 while the minimum score by any team is 1. There is huge difference between the 75% percentile of the data and the maximum value which indicates there could be outliers present in this column \n",
    "\n",
    "3.Played Games: Average games played is 786 with maximum as 2762 nd minimum 0. \n",
    "\n",
    "4.WonGames : The average number of wongames is 406.\n",
    "\n",
    "5.DrawnGames : The average number of drawngames is 188.\n",
    "\n",
    "6.LostGames : The average number of Lostgames is 303.\n",
    "\n",
    "7.Basket scored: The average number of Basketscored is 1140. There is huge difference between the 75% percentile of the data and the maximum value which indicates there could be outliers present in this column \n",
    "\n",
    "8.Basketgiven: The average number of Basketgiven is 1140"
   ]
  },
  {
   "cell_type": "markdown",
   "id": "33933917",
   "metadata": {},
   "source": [
    "Additional Features: Since in sports there will be instances when a particular would be cancelled or abandoned.\n",
    "Let's take some of the current characteristics and derive the following ones for better understanding.\n",
    "\n",
    "1.Cancelled Game: Total number of games played but no official results yet announced. These are the games that might have been canceled or withdrawn without indicating a win, loss, or draw.\n",
    "\n",
    "2.SuccessPercentage: Percentage of the games wonned by the team.\n",
    "\n",
    "3.LosingPercentage:  Percentages of games lost by the team.\n",
    "\n",
    "4.SuccessRatio: Games won/Games lost ratio \n",
    "\n",
    "5.BasketRatio: Basketsscored/Baskets given."
   ]
  },
  {
   "cell_type": "code",
   "execution_count": 40,
   "id": "1d471938",
   "metadata": {},
   "outputs": [
    {
     "data": {
      "text/html": [
       "<div>\n",
       "<style scoped>\n",
       "    .dataframe tbody tr th:only-of-type {\n",
       "        vertical-align: middle;\n",
       "    }\n",
       "\n",
       "    .dataframe tbody tr th {\n",
       "        vertical-align: top;\n",
       "    }\n",
       "\n",
       "    .dataframe thead th {\n",
       "        text-align: right;\n",
       "    }\n",
       "</style>\n",
       "<table border=\"1\" class=\"dataframe\">\n",
       "  <thead>\n",
       "    <tr style=\"text-align: right;\">\n",
       "      <th></th>\n",
       "      <th>Team</th>\n",
       "      <th>Tournament</th>\n",
       "      <th>Score</th>\n",
       "      <th>PlayedGames</th>\n",
       "      <th>WonGames</th>\n",
       "      <th>DrawnGames</th>\n",
       "      <th>LostGames</th>\n",
       "      <th>CancelledGames</th>\n",
       "      <th>BasketScored</th>\n",
       "      <th>BasketGiven</th>\n",
       "      <th>TournamentChampion</th>\n",
       "      <th>Runner-up</th>\n",
       "      <th>TeamLaunch</th>\n",
       "      <th>HighestPositionHeld</th>\n",
       "    </tr>\n",
       "  </thead>\n",
       "  <tbody>\n",
       "    <tr>\n",
       "      <th>0</th>\n",
       "      <td>Team 1</td>\n",
       "      <td>86</td>\n",
       "      <td>4385</td>\n",
       "      <td>2762</td>\n",
       "      <td>1647</td>\n",
       "      <td>552</td>\n",
       "      <td>563</td>\n",
       "      <td>0</td>\n",
       "      <td>5947</td>\n",
       "      <td>3140</td>\n",
       "      <td>33</td>\n",
       "      <td>23</td>\n",
       "      <td>1929</td>\n",
       "      <td>1</td>\n",
       "    </tr>\n",
       "    <tr>\n",
       "      <th>1</th>\n",
       "      <td>Team 2</td>\n",
       "      <td>86</td>\n",
       "      <td>4262</td>\n",
       "      <td>2762</td>\n",
       "      <td>1581</td>\n",
       "      <td>573</td>\n",
       "      <td>608</td>\n",
       "      <td>0</td>\n",
       "      <td>5900</td>\n",
       "      <td>3114</td>\n",
       "      <td>25</td>\n",
       "      <td>25</td>\n",
       "      <td>1929</td>\n",
       "      <td>1</td>\n",
       "    </tr>\n",
       "    <tr>\n",
       "      <th>2</th>\n",
       "      <td>Team 3</td>\n",
       "      <td>80</td>\n",
       "      <td>3442</td>\n",
       "      <td>2614</td>\n",
       "      <td>1241</td>\n",
       "      <td>598</td>\n",
       "      <td>775</td>\n",
       "      <td>0</td>\n",
       "      <td>4534</td>\n",
       "      <td>3309</td>\n",
       "      <td>10</td>\n",
       "      <td>8</td>\n",
       "      <td>1929</td>\n",
       "      <td>1</td>\n",
       "    </tr>\n",
       "    <tr>\n",
       "      <th>3</th>\n",
       "      <td>Team 4</td>\n",
       "      <td>82</td>\n",
       "      <td>3386</td>\n",
       "      <td>2664</td>\n",
       "      <td>1187</td>\n",
       "      <td>616</td>\n",
       "      <td>861</td>\n",
       "      <td>0</td>\n",
       "      <td>4398</td>\n",
       "      <td>3469</td>\n",
       "      <td>6</td>\n",
       "      <td>6</td>\n",
       "      <td>1931</td>\n",
       "      <td>1</td>\n",
       "    </tr>\n",
       "    <tr>\n",
       "      <th>4</th>\n",
       "      <td>Team 5</td>\n",
       "      <td>86</td>\n",
       "      <td>3368</td>\n",
       "      <td>2762</td>\n",
       "      <td>1209</td>\n",
       "      <td>633</td>\n",
       "      <td>920</td>\n",
       "      <td>0</td>\n",
       "      <td>4631</td>\n",
       "      <td>3700</td>\n",
       "      <td>8</td>\n",
       "      <td>7</td>\n",
       "      <td>1929</td>\n",
       "      <td>1</td>\n",
       "    </tr>\n",
       "  </tbody>\n",
       "</table>\n",
       "</div>"
      ],
      "text/plain": [
       "     Team  Tournament  Score  PlayedGames  WonGames  DrawnGames  LostGames  \\\n",
       "0  Team 1          86   4385         2762      1647         552        563   \n",
       "1  Team 2          86   4262         2762      1581         573        608   \n",
       "2  Team 3          80   3442         2614      1241         598        775   \n",
       "3  Team 4          82   3386         2664      1187         616        861   \n",
       "4  Team 5          86   3368         2762      1209         633        920   \n",
       "\n",
       "   CancelledGames  BasketScored  BasketGiven  TournamentChampion  Runner-up  \\\n",
       "0               0          5947         3140                  33         23   \n",
       "1               0          5900         3114                  25         25   \n",
       "2               0          4534         3309                  10          8   \n",
       "3               0          4398         3469                   6          6   \n",
       "4               0          4631         3700                   8          7   \n",
       "\n",
       "   TeamLaunch  HighestPositionHeld  \n",
       "0        1929                    1  \n",
       "1        1929                    1  \n",
       "2        1929                    1  \n",
       "3        1931                    1  \n",
       "4        1929                    1  "
      ]
     },
     "execution_count": 40,
     "metadata": {},
     "output_type": "execute_result"
    }
   ],
   "source": [
    "# Add CancelledGames features\n",
    "# data.drop('CancelledGames', axis=1, inplace=True)\n",
    "n_cancelled = data['PlayedGames'] - (data['DrawnGames'] + data['WonGames'] + data['LostGames'])\n",
    "data.insert(loc=7, column='CancelledGames', value=n_cancelled)\n",
    "data.head()"
   ]
  },
  {
   "cell_type": "code",
   "execution_count": 44,
   "id": "996e6dc4",
   "metadata": {},
   "outputs": [],
   "source": [
    "data.drop(['SuccessPercentage' ],axis=1, inplace=True)"
   ]
  },
  {
   "cell_type": "code",
   "execution_count": 45,
   "id": "8aae68c0",
   "metadata": {},
   "outputs": [
    {
     "data": {
      "text/html": [
       "<div>\n",
       "<style scoped>\n",
       "    .dataframe tbody tr th:only-of-type {\n",
       "        vertical-align: middle;\n",
       "    }\n",
       "\n",
       "    .dataframe tbody tr th {\n",
       "        vertical-align: top;\n",
       "    }\n",
       "\n",
       "    .dataframe thead th {\n",
       "        text-align: right;\n",
       "    }\n",
       "</style>\n",
       "<table border=\"1\" class=\"dataframe\">\n",
       "  <thead>\n",
       "    <tr style=\"text-align: right;\">\n",
       "      <th></th>\n",
       "      <th>Team</th>\n",
       "      <th>Tournament</th>\n",
       "      <th>Score</th>\n",
       "      <th>PlayedGames</th>\n",
       "      <th>WonGames</th>\n",
       "      <th>SuccessPercentage</th>\n",
       "      <th>DrawnGames</th>\n",
       "      <th>LostGames</th>\n",
       "      <th>CancelledGames</th>\n",
       "      <th>BasketScored</th>\n",
       "      <th>BasketGiven</th>\n",
       "      <th>TournamentChampion</th>\n",
       "      <th>Runner-up</th>\n",
       "      <th>TeamLaunch</th>\n",
       "      <th>HighestPositionHeld</th>\n",
       "    </tr>\n",
       "  </thead>\n",
       "  <tbody>\n",
       "    <tr>\n",
       "      <th>0</th>\n",
       "      <td>Team 1</td>\n",
       "      <td>86</td>\n",
       "      <td>4385</td>\n",
       "      <td>2762</td>\n",
       "      <td>1647</td>\n",
       "      <td>59.631</td>\n",
       "      <td>552</td>\n",
       "      <td>563</td>\n",
       "      <td>0</td>\n",
       "      <td>5947</td>\n",
       "      <td>3140</td>\n",
       "      <td>33</td>\n",
       "      <td>23</td>\n",
       "      <td>1929</td>\n",
       "      <td>1</td>\n",
       "    </tr>\n",
       "    <tr>\n",
       "      <th>1</th>\n",
       "      <td>Team 2</td>\n",
       "      <td>86</td>\n",
       "      <td>4262</td>\n",
       "      <td>2762</td>\n",
       "      <td>1581</td>\n",
       "      <td>57.241</td>\n",
       "      <td>573</td>\n",
       "      <td>608</td>\n",
       "      <td>0</td>\n",
       "      <td>5900</td>\n",
       "      <td>3114</td>\n",
       "      <td>25</td>\n",
       "      <td>25</td>\n",
       "      <td>1929</td>\n",
       "      <td>1</td>\n",
       "    </tr>\n",
       "    <tr>\n",
       "      <th>2</th>\n",
       "      <td>Team 3</td>\n",
       "      <td>80</td>\n",
       "      <td>3442</td>\n",
       "      <td>2614</td>\n",
       "      <td>1241</td>\n",
       "      <td>47.475</td>\n",
       "      <td>598</td>\n",
       "      <td>775</td>\n",
       "      <td>0</td>\n",
       "      <td>4534</td>\n",
       "      <td>3309</td>\n",
       "      <td>10</td>\n",
       "      <td>8</td>\n",
       "      <td>1929</td>\n",
       "      <td>1</td>\n",
       "    </tr>\n",
       "    <tr>\n",
       "      <th>3</th>\n",
       "      <td>Team 4</td>\n",
       "      <td>82</td>\n",
       "      <td>3386</td>\n",
       "      <td>2664</td>\n",
       "      <td>1187</td>\n",
       "      <td>44.557</td>\n",
       "      <td>616</td>\n",
       "      <td>861</td>\n",
       "      <td>0</td>\n",
       "      <td>4398</td>\n",
       "      <td>3469</td>\n",
       "      <td>6</td>\n",
       "      <td>6</td>\n",
       "      <td>1931</td>\n",
       "      <td>1</td>\n",
       "    </tr>\n",
       "    <tr>\n",
       "      <th>4</th>\n",
       "      <td>Team 5</td>\n",
       "      <td>86</td>\n",
       "      <td>3368</td>\n",
       "      <td>2762</td>\n",
       "      <td>1209</td>\n",
       "      <td>43.773</td>\n",
       "      <td>633</td>\n",
       "      <td>920</td>\n",
       "      <td>0</td>\n",
       "      <td>4631</td>\n",
       "      <td>3700</td>\n",
       "      <td>8</td>\n",
       "      <td>7</td>\n",
       "      <td>1929</td>\n",
       "      <td>1</td>\n",
       "    </tr>\n",
       "  </tbody>\n",
       "</table>\n",
       "</div>"
      ],
      "text/plain": [
       "     Team  Tournament  Score  PlayedGames  WonGames  SuccessPercentage  \\\n",
       "0  Team 1          86   4385         2762      1647             59.631   \n",
       "1  Team 2          86   4262         2762      1581             57.241   \n",
       "2  Team 3          80   3442         2614      1241             47.475   \n",
       "3  Team 4          82   3386         2664      1187             44.557   \n",
       "4  Team 5          86   3368         2762      1209             43.773   \n",
       "\n",
       "   DrawnGames  LostGames  CancelledGames  BasketScored  BasketGiven  \\\n",
       "0         552        563               0          5947         3140   \n",
       "1         573        608               0          5900         3114   \n",
       "2         598        775               0          4534         3309   \n",
       "3         616        861               0          4398         3469   \n",
       "4         633        920               0          4631         3700   \n",
       "\n",
       "   TournamentChampion  Runner-up  TeamLaunch  HighestPositionHeld  \n",
       "0                  33         23        1929                    1  \n",
       "1                  25         25        1929                    1  \n",
       "2                  10          8        1929                    1  \n",
       "3                   6          6        1931                    1  \n",
       "4                   8          7        1929                    1  "
      ]
     },
     "execution_count": 45,
     "metadata": {},
     "output_type": "execute_result"
    }
   ],
   "source": [
    "# Add SuccessPercentage features\n",
    "# data.drop('SuccessPercentage', axis=1, inplace=True)\n",
    "won_pct = data['WonGames'] / data['PlayedGames']*100\n",
    "data.insert(loc=5, column='SuccessPercentage', value=won_pct)\n",
    "data.head()"
   ]
  },
  {
   "cell_type": "code",
   "execution_count": 47,
   "id": "00c683b8",
   "metadata": {},
   "outputs": [
    {
     "name": "stdout",
     "output_type": "stream",
     "text": [
      "The best performing team is Team 1 with the winning percentage of 59.63\n"
     ]
    }
   ],
   "source": [
    "Success_percent_max = data['SuccessPercentage'].max()\n",
    "Best_Team = data.loc[data['SuccessPercentage'] == Success_percent_max , 'Team'].item()\n",
    "\n",
    "print(\"The best performing team is %s with the winning percentage of %1.2f\" %(Best_Team, Success_percent_max))"
   ]
  },
  {
   "cell_type": "code",
   "execution_count": 48,
   "id": "d815852e",
   "metadata": {},
   "outputs": [
    {
     "data": {
      "text/html": [
       "<div>\n",
       "<style scoped>\n",
       "    .dataframe tbody tr th:only-of-type {\n",
       "        vertical-align: middle;\n",
       "    }\n",
       "\n",
       "    .dataframe tbody tr th {\n",
       "        vertical-align: top;\n",
       "    }\n",
       "\n",
       "    .dataframe thead th {\n",
       "        text-align: right;\n",
       "    }\n",
       "</style>\n",
       "<table border=\"1\" class=\"dataframe\">\n",
       "  <thead>\n",
       "    <tr style=\"text-align: right;\">\n",
       "      <th></th>\n",
       "      <th>Team</th>\n",
       "      <th>Tournament</th>\n",
       "      <th>Score</th>\n",
       "      <th>PlayedGames</th>\n",
       "      <th>WonGames</th>\n",
       "      <th>SuccessPercentage</th>\n",
       "      <th>DrawnGames</th>\n",
       "      <th>LostGames</th>\n",
       "      <th>LoosingPercentage</th>\n",
       "      <th>CancelledGames</th>\n",
       "      <th>BasketScored</th>\n",
       "      <th>BasketGiven</th>\n",
       "      <th>TournamentChampion</th>\n",
       "      <th>Runner-up</th>\n",
       "      <th>TeamLaunch</th>\n",
       "      <th>HighestPositionHeld</th>\n",
       "    </tr>\n",
       "  </thead>\n",
       "  <tbody>\n",
       "    <tr>\n",
       "      <th>0</th>\n",
       "      <td>Team 1</td>\n",
       "      <td>86</td>\n",
       "      <td>4385</td>\n",
       "      <td>2762</td>\n",
       "      <td>1647</td>\n",
       "      <td>59.631</td>\n",
       "      <td>552</td>\n",
       "      <td>563</td>\n",
       "      <td>20.384</td>\n",
       "      <td>0</td>\n",
       "      <td>5947</td>\n",
       "      <td>3140</td>\n",
       "      <td>33</td>\n",
       "      <td>23</td>\n",
       "      <td>1929</td>\n",
       "      <td>1</td>\n",
       "    </tr>\n",
       "    <tr>\n",
       "      <th>1</th>\n",
       "      <td>Team 2</td>\n",
       "      <td>86</td>\n",
       "      <td>4262</td>\n",
       "      <td>2762</td>\n",
       "      <td>1581</td>\n",
       "      <td>57.241</td>\n",
       "      <td>573</td>\n",
       "      <td>608</td>\n",
       "      <td>22.013</td>\n",
       "      <td>0</td>\n",
       "      <td>5900</td>\n",
       "      <td>3114</td>\n",
       "      <td>25</td>\n",
       "      <td>25</td>\n",
       "      <td>1929</td>\n",
       "      <td>1</td>\n",
       "    </tr>\n",
       "    <tr>\n",
       "      <th>2</th>\n",
       "      <td>Team 3</td>\n",
       "      <td>80</td>\n",
       "      <td>3442</td>\n",
       "      <td>2614</td>\n",
       "      <td>1241</td>\n",
       "      <td>47.475</td>\n",
       "      <td>598</td>\n",
       "      <td>775</td>\n",
       "      <td>29.648</td>\n",
       "      <td>0</td>\n",
       "      <td>4534</td>\n",
       "      <td>3309</td>\n",
       "      <td>10</td>\n",
       "      <td>8</td>\n",
       "      <td>1929</td>\n",
       "      <td>1</td>\n",
       "    </tr>\n",
       "    <tr>\n",
       "      <th>3</th>\n",
       "      <td>Team 4</td>\n",
       "      <td>82</td>\n",
       "      <td>3386</td>\n",
       "      <td>2664</td>\n",
       "      <td>1187</td>\n",
       "      <td>44.557</td>\n",
       "      <td>616</td>\n",
       "      <td>861</td>\n",
       "      <td>32.320</td>\n",
       "      <td>0</td>\n",
       "      <td>4398</td>\n",
       "      <td>3469</td>\n",
       "      <td>6</td>\n",
       "      <td>6</td>\n",
       "      <td>1931</td>\n",
       "      <td>1</td>\n",
       "    </tr>\n",
       "    <tr>\n",
       "      <th>4</th>\n",
       "      <td>Team 5</td>\n",
       "      <td>86</td>\n",
       "      <td>3368</td>\n",
       "      <td>2762</td>\n",
       "      <td>1209</td>\n",
       "      <td>43.773</td>\n",
       "      <td>633</td>\n",
       "      <td>920</td>\n",
       "      <td>33.309</td>\n",
       "      <td>0</td>\n",
       "      <td>4631</td>\n",
       "      <td>3700</td>\n",
       "      <td>8</td>\n",
       "      <td>7</td>\n",
       "      <td>1929</td>\n",
       "      <td>1</td>\n",
       "    </tr>\n",
       "  </tbody>\n",
       "</table>\n",
       "</div>"
      ],
      "text/plain": [
       "     Team  Tournament  Score  PlayedGames  WonGames  SuccessPercentage  \\\n",
       "0  Team 1          86   4385         2762      1647             59.631   \n",
       "1  Team 2          86   4262         2762      1581             57.241   \n",
       "2  Team 3          80   3442         2614      1241             47.475   \n",
       "3  Team 4          82   3386         2664      1187             44.557   \n",
       "4  Team 5          86   3368         2762      1209             43.773   \n",
       "\n",
       "   DrawnGames  LostGames  LoosingPercentage  CancelledGames  BasketScored  \\\n",
       "0         552        563             20.384               0          5947   \n",
       "1         573        608             22.013               0          5900   \n",
       "2         598        775             29.648               0          4534   \n",
       "3         616        861             32.320               0          4398   \n",
       "4         633        920             33.309               0          4631   \n",
       "\n",
       "   BasketGiven  TournamentChampion  Runner-up  TeamLaunch  HighestPositionHeld  \n",
       "0         3140                  33         23        1929                    1  \n",
       "1         3114                  25         25        1929                    1  \n",
       "2         3309                  10          8        1929                    1  \n",
       "3         3469                   6          6        1931                    1  \n",
       "4         3700                   8          7        1929                    1  "
      ]
     },
     "execution_count": 48,
     "metadata": {},
     "output_type": "execute_result"
    }
   ],
   "source": [
    "# Add LoosingPercentage features\n",
    "# data.drop('LoosingPercentage', axis=1, inplace=True)\n",
    "won_pct = data['LostGames'] / data['PlayedGames']*100\n",
    "data.insert(loc=8, column='LoosingPercentage', value=won_pct)\n",
    "data.head()"
   ]
  },
  {
   "cell_type": "code",
   "execution_count": 51,
   "id": "01b118f5",
   "metadata": {},
   "outputs": [
    {
     "name": "stdout",
     "output_type": "stream",
     "text": [
      "The worst performing team is Team 60 with the loosing percentage of 70.00\n"
     ]
    }
   ],
   "source": [
    "Loosing_percent_max = data['LoosingPercentage'].max()\n",
    "Worst_Team = data.loc[data['LoosingPercentage'] == Loosing_percent_max , 'Team'].item()\n",
    "\n",
    "print(\"The worst performing team is %s with the loosing percentage of %1.2f\" %(Worst_Team, Loosing_percent_max))"
   ]
  },
  {
   "cell_type": "code",
   "execution_count": 50,
   "id": "ebb1306b",
   "metadata": {},
   "outputs": [
    {
     "data": {
      "text/html": [
       "<div>\n",
       "<style scoped>\n",
       "    .dataframe tbody tr th:only-of-type {\n",
       "        vertical-align: middle;\n",
       "    }\n",
       "\n",
       "    .dataframe tbody tr th {\n",
       "        vertical-align: top;\n",
       "    }\n",
       "\n",
       "    .dataframe thead th {\n",
       "        text-align: right;\n",
       "    }\n",
       "</style>\n",
       "<table border=\"1\" class=\"dataframe\">\n",
       "  <thead>\n",
       "    <tr style=\"text-align: right;\">\n",
       "      <th></th>\n",
       "      <th>Team</th>\n",
       "      <th>Tournament</th>\n",
       "      <th>Score</th>\n",
       "      <th>PlayedGames</th>\n",
       "      <th>WonGames</th>\n",
       "      <th>SuccessPercentage</th>\n",
       "      <th>DrawnGames</th>\n",
       "      <th>LostGames</th>\n",
       "      <th>LoosingPercentage</th>\n",
       "      <th>SuccessRatio</th>\n",
       "      <th>CancelledGames</th>\n",
       "      <th>BasketScored</th>\n",
       "      <th>BasketGiven</th>\n",
       "      <th>TournamentChampion</th>\n",
       "      <th>Runner-up</th>\n",
       "      <th>TeamLaunch</th>\n",
       "      <th>HighestPositionHeld</th>\n",
       "    </tr>\n",
       "  </thead>\n",
       "  <tbody>\n",
       "    <tr>\n",
       "      <th>0</th>\n",
       "      <td>Team 1</td>\n",
       "      <td>86</td>\n",
       "      <td>4385</td>\n",
       "      <td>2762</td>\n",
       "      <td>1647</td>\n",
       "      <td>59.631</td>\n",
       "      <td>552</td>\n",
       "      <td>563</td>\n",
       "      <td>20.384</td>\n",
       "      <td>2.925</td>\n",
       "      <td>0</td>\n",
       "      <td>5947</td>\n",
       "      <td>3140</td>\n",
       "      <td>33</td>\n",
       "      <td>23</td>\n",
       "      <td>1929</td>\n",
       "      <td>1</td>\n",
       "    </tr>\n",
       "    <tr>\n",
       "      <th>1</th>\n",
       "      <td>Team 2</td>\n",
       "      <td>86</td>\n",
       "      <td>4262</td>\n",
       "      <td>2762</td>\n",
       "      <td>1581</td>\n",
       "      <td>57.241</td>\n",
       "      <td>573</td>\n",
       "      <td>608</td>\n",
       "      <td>22.013</td>\n",
       "      <td>2.600</td>\n",
       "      <td>0</td>\n",
       "      <td>5900</td>\n",
       "      <td>3114</td>\n",
       "      <td>25</td>\n",
       "      <td>25</td>\n",
       "      <td>1929</td>\n",
       "      <td>1</td>\n",
       "    </tr>\n",
       "    <tr>\n",
       "      <th>2</th>\n",
       "      <td>Team 3</td>\n",
       "      <td>80</td>\n",
       "      <td>3442</td>\n",
       "      <td>2614</td>\n",
       "      <td>1241</td>\n",
       "      <td>47.475</td>\n",
       "      <td>598</td>\n",
       "      <td>775</td>\n",
       "      <td>29.648</td>\n",
       "      <td>1.601</td>\n",
       "      <td>0</td>\n",
       "      <td>4534</td>\n",
       "      <td>3309</td>\n",
       "      <td>10</td>\n",
       "      <td>8</td>\n",
       "      <td>1929</td>\n",
       "      <td>1</td>\n",
       "    </tr>\n",
       "    <tr>\n",
       "      <th>3</th>\n",
       "      <td>Team 4</td>\n",
       "      <td>82</td>\n",
       "      <td>3386</td>\n",
       "      <td>2664</td>\n",
       "      <td>1187</td>\n",
       "      <td>44.557</td>\n",
       "      <td>616</td>\n",
       "      <td>861</td>\n",
       "      <td>32.320</td>\n",
       "      <td>1.379</td>\n",
       "      <td>0</td>\n",
       "      <td>4398</td>\n",
       "      <td>3469</td>\n",
       "      <td>6</td>\n",
       "      <td>6</td>\n",
       "      <td>1931</td>\n",
       "      <td>1</td>\n",
       "    </tr>\n",
       "    <tr>\n",
       "      <th>4</th>\n",
       "      <td>Team 5</td>\n",
       "      <td>86</td>\n",
       "      <td>3368</td>\n",
       "      <td>2762</td>\n",
       "      <td>1209</td>\n",
       "      <td>43.773</td>\n",
       "      <td>633</td>\n",
       "      <td>920</td>\n",
       "      <td>33.309</td>\n",
       "      <td>1.314</td>\n",
       "      <td>0</td>\n",
       "      <td>4631</td>\n",
       "      <td>3700</td>\n",
       "      <td>8</td>\n",
       "      <td>7</td>\n",
       "      <td>1929</td>\n",
       "      <td>1</td>\n",
       "    </tr>\n",
       "  </tbody>\n",
       "</table>\n",
       "</div>"
      ],
      "text/plain": [
       "     Team  Tournament  Score  PlayedGames  WonGames  SuccessPercentage  \\\n",
       "0  Team 1          86   4385         2762      1647             59.631   \n",
       "1  Team 2          86   4262         2762      1581             57.241   \n",
       "2  Team 3          80   3442         2614      1241             47.475   \n",
       "3  Team 4          82   3386         2664      1187             44.557   \n",
       "4  Team 5          86   3368         2762      1209             43.773   \n",
       "\n",
       "   DrawnGames  LostGames  LoosingPercentage  SuccessRatio  CancelledGames  \\\n",
       "0         552        563             20.384         2.925               0   \n",
       "1         573        608             22.013         2.600               0   \n",
       "2         598        775             29.648         1.601               0   \n",
       "3         616        861             32.320         1.379               0   \n",
       "4         633        920             33.309         1.314               0   \n",
       "\n",
       "   BasketScored  BasketGiven  TournamentChampion  Runner-up  TeamLaunch  \\\n",
       "0          5947         3140                  33         23        1929   \n",
       "1          5900         3114                  25         25        1929   \n",
       "2          4534         3309                  10          8        1929   \n",
       "3          4398         3469                   6          6        1931   \n",
       "4          4631         3700                   8          7        1929   \n",
       "\n",
       "   HighestPositionHeld  \n",
       "0                    1  \n",
       "1                    1  \n",
       "2                    1  \n",
       "3                    1  \n",
       "4                    1  "
      ]
     },
     "execution_count": 50,
     "metadata": {},
     "output_type": "execute_result"
    }
   ],
   "source": [
    "# Add SuccessRatio features\n",
    "# data.drop('SuccessRatio', axis=1, inplace=True)\n",
    "won_pct = data['WonGames'] / data['LostGames']\n",
    "data.insert(loc=9, column='SuccessRatio', value=won_pct)\n",
    "data.head()"
   ]
  },
  {
   "cell_type": "code",
   "execution_count": 52,
   "id": "9b2c2796",
   "metadata": {},
   "outputs": [
    {
     "data": {
      "text/html": [
       "<div>\n",
       "<style scoped>\n",
       "    .dataframe tbody tr th:only-of-type {\n",
       "        vertical-align: middle;\n",
       "    }\n",
       "\n",
       "    .dataframe tbody tr th {\n",
       "        vertical-align: top;\n",
       "    }\n",
       "\n",
       "    .dataframe thead th {\n",
       "        text-align: right;\n",
       "    }\n",
       "</style>\n",
       "<table border=\"1\" class=\"dataframe\">\n",
       "  <thead>\n",
       "    <tr style=\"text-align: right;\">\n",
       "      <th></th>\n",
       "      <th>Team</th>\n",
       "      <th>Tournament</th>\n",
       "      <th>Score</th>\n",
       "      <th>PlayedGames</th>\n",
       "      <th>WonGames</th>\n",
       "      <th>DrawnPercentage</th>\n",
       "      <th>SuccessPercentage</th>\n",
       "      <th>DrawnGames</th>\n",
       "      <th>LostGames</th>\n",
       "      <th>LoosingPercentage</th>\n",
       "      <th>SuccessRatio</th>\n",
       "      <th>CancelledGames</th>\n",
       "      <th>BasketScored</th>\n",
       "      <th>BasketGiven</th>\n",
       "      <th>TournamentChampion</th>\n",
       "      <th>Runner-up</th>\n",
       "      <th>TeamLaunch</th>\n",
       "      <th>HighestPositionHeld</th>\n",
       "    </tr>\n",
       "  </thead>\n",
       "  <tbody>\n",
       "    <tr>\n",
       "      <th>0</th>\n",
       "      <td>Team 1</td>\n",
       "      <td>86</td>\n",
       "      <td>4385</td>\n",
       "      <td>2762</td>\n",
       "      <td>1647</td>\n",
       "      <td>19.986</td>\n",
       "      <td>59.631</td>\n",
       "      <td>552</td>\n",
       "      <td>563</td>\n",
       "      <td>20.384</td>\n",
       "      <td>2.925</td>\n",
       "      <td>0</td>\n",
       "      <td>5947</td>\n",
       "      <td>3140</td>\n",
       "      <td>33</td>\n",
       "      <td>23</td>\n",
       "      <td>1929</td>\n",
       "      <td>1</td>\n",
       "    </tr>\n",
       "    <tr>\n",
       "      <th>1</th>\n",
       "      <td>Team 2</td>\n",
       "      <td>86</td>\n",
       "      <td>4262</td>\n",
       "      <td>2762</td>\n",
       "      <td>1581</td>\n",
       "      <td>20.746</td>\n",
       "      <td>57.241</td>\n",
       "      <td>573</td>\n",
       "      <td>608</td>\n",
       "      <td>22.013</td>\n",
       "      <td>2.600</td>\n",
       "      <td>0</td>\n",
       "      <td>5900</td>\n",
       "      <td>3114</td>\n",
       "      <td>25</td>\n",
       "      <td>25</td>\n",
       "      <td>1929</td>\n",
       "      <td>1</td>\n",
       "    </tr>\n",
       "    <tr>\n",
       "      <th>2</th>\n",
       "      <td>Team 3</td>\n",
       "      <td>80</td>\n",
       "      <td>3442</td>\n",
       "      <td>2614</td>\n",
       "      <td>1241</td>\n",
       "      <td>22.877</td>\n",
       "      <td>47.475</td>\n",
       "      <td>598</td>\n",
       "      <td>775</td>\n",
       "      <td>29.648</td>\n",
       "      <td>1.601</td>\n",
       "      <td>0</td>\n",
       "      <td>4534</td>\n",
       "      <td>3309</td>\n",
       "      <td>10</td>\n",
       "      <td>8</td>\n",
       "      <td>1929</td>\n",
       "      <td>1</td>\n",
       "    </tr>\n",
       "    <tr>\n",
       "      <th>3</th>\n",
       "      <td>Team 4</td>\n",
       "      <td>82</td>\n",
       "      <td>3386</td>\n",
       "      <td>2664</td>\n",
       "      <td>1187</td>\n",
       "      <td>23.123</td>\n",
       "      <td>44.557</td>\n",
       "      <td>616</td>\n",
       "      <td>861</td>\n",
       "      <td>32.320</td>\n",
       "      <td>1.379</td>\n",
       "      <td>0</td>\n",
       "      <td>4398</td>\n",
       "      <td>3469</td>\n",
       "      <td>6</td>\n",
       "      <td>6</td>\n",
       "      <td>1931</td>\n",
       "      <td>1</td>\n",
       "    </tr>\n",
       "    <tr>\n",
       "      <th>4</th>\n",
       "      <td>Team 5</td>\n",
       "      <td>86</td>\n",
       "      <td>3368</td>\n",
       "      <td>2762</td>\n",
       "      <td>1209</td>\n",
       "      <td>22.918</td>\n",
       "      <td>43.773</td>\n",
       "      <td>633</td>\n",
       "      <td>920</td>\n",
       "      <td>33.309</td>\n",
       "      <td>1.314</td>\n",
       "      <td>0</td>\n",
       "      <td>4631</td>\n",
       "      <td>3700</td>\n",
       "      <td>8</td>\n",
       "      <td>7</td>\n",
       "      <td>1929</td>\n",
       "      <td>1</td>\n",
       "    </tr>\n",
       "  </tbody>\n",
       "</table>\n",
       "</div>"
      ],
      "text/plain": [
       "     Team  Tournament  Score  PlayedGames  WonGames  DrawnPercentage  \\\n",
       "0  Team 1          86   4385         2762      1647           19.986   \n",
       "1  Team 2          86   4262         2762      1581           20.746   \n",
       "2  Team 3          80   3442         2614      1241           22.877   \n",
       "3  Team 4          82   3386         2664      1187           23.123   \n",
       "4  Team 5          86   3368         2762      1209           22.918   \n",
       "\n",
       "   SuccessPercentage  DrawnGames  LostGames  LoosingPercentage  SuccessRatio  \\\n",
       "0             59.631         552        563             20.384         2.925   \n",
       "1             57.241         573        608             22.013         2.600   \n",
       "2             47.475         598        775             29.648         1.601   \n",
       "3             44.557         616        861             32.320         1.379   \n",
       "4             43.773         633        920             33.309         1.314   \n",
       "\n",
       "   CancelledGames  BasketScored  BasketGiven  TournamentChampion  Runner-up  \\\n",
       "0               0          5947         3140                  33         23   \n",
       "1               0          5900         3114                  25         25   \n",
       "2               0          4534         3309                  10          8   \n",
       "3               0          4398         3469                   6          6   \n",
       "4               0          4631         3700                   8          7   \n",
       "\n",
       "   TeamLaunch  HighestPositionHeld  \n",
       "0        1929                    1  \n",
       "1        1929                    1  \n",
       "2        1929                    1  \n",
       "3        1931                    1  \n",
       "4        1929                    1  "
      ]
     },
     "execution_count": 52,
     "metadata": {},
     "output_type": "execute_result"
    }
   ],
   "source": [
    "# Add DrawnPercentage features\n",
    "# data.drop('DrawnPercentage', axis=1, inplace=True)\n",
    "won_pct = data['DrawnGames']/data['PlayedGames']*100\n",
    "data.insert(loc=5, column='DrawnPercentage', value=won_pct)\n",
    "data.head()"
   ]
  },
  {
   "cell_type": "code",
   "execution_count": 55,
   "id": "348ff574",
   "metadata": {},
   "outputs": [
    {
     "name": "stdout",
     "output_type": "stream",
     "text": [
      "The Team 46 is the team with highest number of drawn games with Drawn percentage of 38.60\n"
     ]
    }
   ],
   "source": [
    "Drawn_percent_max = data['DrawnPercentage'].max()\n",
    "Drawn_Team = data.loc[data['DrawnPercentage'] == Drawn_percent_max , 'Team'].item()\n",
    "\n",
    "print(\"The %s is the team with highest number of drawn games with Drawn percentage of %1.2f\" %(Drawn_Team, Drawn_percent_max))"
   ]
  },
  {
   "cell_type": "markdown",
   "id": "9e682e61",
   "metadata": {},
   "source": [
    "# Univariate Analysis - To check individual distribution- Skewness"
   ]
  },
  {
   "cell_type": "code",
   "execution_count": 79,
   "id": "3285107b",
   "metadata": {},
   "outputs": [
    {
     "data": {
      "image/png": "[encoded data removed]",
      "text/plain": [
       "<Figure size 700x300 with 1 Axes>"
      ]
     },
     "metadata": {},
     "output_type": "display_data"
    },
    {
     "data": {
      "image/png": "[encoded data removed]",
      "text/plain": [
       "<Figure size 700x300 with 1 Axes>"
      ]
     },
     "metadata": {},
     "output_type": "display_data"
    },
    {
     "data": {
      "image/png": "[encoded data removed]",
      "text/plain": [
       "<Figure size 700x300 with 1 Axes>"
      ]
     },
     "metadata": {},
     "output_type": "display_data"
    },
    {
     "data": {
      "image/png": "[encoded data removed]",
      "text/plain": [
       "<Figure size 700x300 with 1 Axes>"
      ]
     },
     "metadata": {},
     "output_type": "display_data"
    },
    {
     "data": {
      "image/png": "[encoded data removed]",
      "text/plain": [
       "<Figure size 700x300 with 1 Axes>"
      ]
     },
     "metadata": {},
     "output_type": "display_data"
    },
    {
     "data": {
      "image/png": "[encoded data removed]",
      "text/plain": [
       "<Figure size 700x300 with 1 Axes>"
      ]
     },
     "metadata": {},
     "output_type": "display_data"
    },
    {
     "data": {
      "image/png": "[encoded data removed]",
      "text/plain": [
       "<Figure size 700x300 with 1 Axes>"
      ]
     },
     "metadata": {},
     "output_type": "display_data"
    },
    {
     "data": {
      "image/png": "[encoded data removed]",
      "text/plain": [
       "<Figure size 700x300 with 1 Axes>"
      ]
     },
     "metadata": {},
     "output_type": "display_data"
    },
    {
     "data": {
      "image/png": "[encoded data removed]",
      "text/plain": [
       "<Figure size 700x300 with 1 Axes>"
      ]
     },
     "metadata": {},
     "output_type": "display_data"
    },
    {
     "data": {
      "image/png": "[encoded data removed]",
      "text/plain": [
       "<Figure size 700x300 with 1 Axes>"
      ]
     },
     "metadata": {},
     "output_type": "display_data"
    },
    {
     "data": {
      "image/png": "[encoded data removed]",
      "text/plain": [
       "<Figure size 700x300 with 1 Axes>"
      ]
     },
     "metadata": {},
     "output_type": "display_data"
    },
    {
     "data": {
      "image/png": "[encoded data removed]",
      "text/plain": [
       "<Figure size 700x300 with 1 Axes>"
      ]
     },
     "metadata": {},
     "output_type": "display_data"
    },
    {
     "data": {
      "image/png": "[encoded data removed]",
      "text/plain": [
       "<Figure size 700x300 with 1 Axes>"
      ]
     },
     "metadata": {},
     "output_type": "display_data"
    },
    {
     "data": {
      "image/png": "[encoded data removed]",
      "text/plain": [
       "<Figure size 700x300 with 1 Axes>"
      ]
     },
     "metadata": {},
     "output_type": "display_data"
    },
    {
     "data": {
      "image/png": "[encoded data removed]",
      "text/plain": [
       "<Figure size 700x300 with 1 Axes>"
      ]
     },
     "metadata": {},
     "output_type": "display_data"
    }
   ],
   "source": [
    "#Creating Boxplot to outliers\n",
    "\n",
    "for column in data.columns[1:16]:  \n",
    "    plt.figure(figsize=(7,3))\n",
    "    sns.boxplot(x=column, data=data);  \n"
   ]
  },
  {
   "cell_type": "code",
   "execution_count": 80,
   "id": "150f3373",
   "metadata": {},
   "outputs": [
    {
     "data": {
      "image/png": "[encoded data removed]",
      "text/plain": [
       "<Figure size 700x300 with 1 Axes>"
      ]
     },
     "metadata": {},
     "output_type": "display_data"
    },
    {
     "data": {
      "image/png": "[encoded data removed]",
      "text/plain": [
       "<Figure size 700x300 with 1 Axes>"
      ]
     },
     "metadata": {},
     "output_type": "display_data"
    },
    {
     "data": {
      "image/png": "[encoded data removed]",
      "text/plain": [
       "<Figure size 700x300 with 1 Axes>"
      ]
     },
     "metadata": {},
     "output_type": "display_data"
    },
    {
     "data": {
      "image/png": "[encoded data removed]",
      "text/plain": [
       "<Figure size 700x300 with 1 Axes>"
      ]
     },
     "metadata": {},
     "output_type": "display_data"
    },
    {
     "data": {
      "image/png": "[encoded data removed]",
      "text/plain": [
       "<Figure size 700x300 with 1 Axes>"
      ]
     },
     "metadata": {},
     "output_type": "display_data"
    },
    {
     "data": {
      "image/png": "[encoded data removed]",
      "text/plain": [
       "<Figure size 700x300 with 1 Axes>"
      ]
     },
     "metadata": {},
     "output_type": "display_data"
    },
    {
     "data": {
      "image/png": "[encoded data removed]",
      "text/plain": [
       "<Figure size 700x300 with 1 Axes>"
      ]
     },
     "metadata": {},
     "output_type": "display_data"
    },
    {
     "data": {
      "image/png": "[encoded data removed]",
      "text/plain": [
       "<Figure size 700x300 with 1 Axes>"
      ]
     },
     "metadata": {},
     "output_type": "display_data"
    },
    {
     "data": {
      "image/png": "[encoded data removed]",
      "text/plain": [
       "<Figure size 700x300 with 1 Axes>"
      ]
     },
     "metadata": {},
     "output_type": "display_data"
    },
    {
     "data": {
      "image/png": "[encoded data removed]",
      "text/plain": [
       "<Figure size 700x300 with 1 Axes>"
      ]
     },
     "metadata": {},
     "output_type": "display_data"
    },
    {
     "data": {
      "image/png": "[encoded data removed]",
      "text/plain": [
       "<Figure size 700x300 with 1 Axes>"
      ]
     },
     "metadata": {},
     "output_type": "display_data"
    },
    {
     "data": {
      "image/png": "[encoded data removed]",
      "text/plain": [
       "<Figure size 700x300 with 1 Axes>"
      ]
     },
     "metadata": {},
     "output_type": "display_data"
    },
    {
     "data": {
      "image/png": "[encoded data removed]",
      "text/plain": [
       "<Figure size 700x300 with 1 Axes>"
      ]
     },
     "metadata": {},
     "output_type": "display_data"
    },
    {
     "data": {
      "image/png": "[encoded data removed]",
      "text/plain": [
       "<Figure size 700x300 with 1 Axes>"
      ]
     },
     "metadata": {},
     "output_type": "display_data"
    },
    {
     "data": {
      "image/png": "[encoded data removed]",
      "text/plain": [
       "<Figure size 700x300 with 1 Axes>"
      ]
     },
     "metadata": {},
     "output_type": "display_data"
    }
   ],
   "source": [
    "#Creating histograms \n",
    "for column in data.columns[1:16]:  \n",
    "    plt.figure(figsize=(7,3))\n",
    "    sns.histplot(x=column, data=data); \n",
    " "
   ]
  },
  {
   "cell_type": "code",
   "execution_count": null,
   "id": "db9c74d0",
   "metadata": {},
   "outputs": [],
   "source": []
  },
  {
   "cell_type": "code",
   "execution_count": 85,
   "id": "21c7ef8a",
   "metadata": {},
   "outputs": [
    {
     "data": {
      "image/png": "[encoded data removed]",
      "text/plain": [
       "<Figure size 1000x500 with 2 Axes>"
      ]
     },
     "metadata": {},
     "output_type": "display_data"
    }
   ],
   "source": [
    "plt.figure(figsize=(10,5))\n",
    "  \n",
    "numerical_columns = ['Tournament','Score','PlayedGames','WonGames','DrawnGames','LostGames' , 'BasketScored' , 'BasketGiven'\n",
    "]\n",
    "\n",
    "sns.heatmap(data[numerical_columns].corr(),annot=True,cmap='Spectral',vmin=-1,vmax=1)\n",
    "plt.show()"
   ]
  },
  {
   "cell_type": "code",
   "execution_count": 86,
   "id": "dab93824",
   "metadata": {},
   "outputs": [
    {
     "data": {
      "image/png": "[encoded data removed]",
      "text/plain": [
       "<Figure size 1000x500 with 2 Axes>"
      ]
     },
     "metadata": {},
     "output_type": "display_data"
    }
   ],
   "source": [
    "plt.figure(figsize=(10,5))\n",
    "  \n",
    "numerical_columns = ['Tournament','SuccessPercentage','DrawnPercentage','LoosingPercentage', 'TeamLaunch'\n",
    "                    ]\n",
    "sns.heatmap(data[numerical_columns].corr(),annot=True,cmap='Spectral',vmin=-1,vmax=1)\n",
    "plt.show()"
   ]
  },
  {
   "cell_type": "markdown",
   "id": "6356c75f",
   "metadata": {},
   "source": [
    "# Observation\n",
    "\n",
    "There is a strong correlation between Tournaments played and Success Percentage. This means the tournament champions and the Runnerups are the teams that are the most experienced team with most of number of success/wins."
   ]
  },
  {
   "cell_type": "markdown",
   "id": "e744be5c",
   "metadata": {},
   "source": [
    "# Question 3 -\n",
    "Please include any improvements or suggestions to the association management on quality, quantity, variety, velocity, veracity etc. on the data points collected by the association to perform a better data analysis in future. At-least 1 suggestion for each point"
   ]
  },
  {
   "cell_type": "markdown",
   "id": "48828b9d",
   "metadata": {},
   "source": [
    "Quantity: Suggestions for enhancing the Quantity of data\n",
    "For a more examination, data on more matches played in the past would be a fantastic resource.\n",
    "\n",
    "Velocity: One can ask for increasing the frequency and velocity of data collection.\n",
    "More details regarding the different matches played over the years could improve the analysis of the data.\n",
    "\n",
    "\n",
    "Variety: Recommendations for enhancing the range and kind of data sources that are now accessible\n",
    "Location of games, player information, tournaments, and games would all be valuable additions. The collected Data is very skewed in different segments. \n",
    "\n",
    "\n",
    "Truthfulness: Proposed enhancements to the data quality\n",
    "Dates of team registration could coincide with the launch date of the team. \n",
    "\n",
    "Value: Suggestions for enhancements to the value addition\n",
    "There is a wide range of data collecting available for comprehensive team, player, and game performance."
   ]
  },
  {
   "cell_type": "markdown",
   "id": "4cbe8631",
   "metadata": {},
   "source": [
    "## Part C - Total 30 marks\n",
    "\n",
    "<b>DOMAIN: Startup ecosystem</b>\n",
    "\n",
    "<p> CONTEXT: Company X is a EU online publisher focusing on the startups industry. The company specifically reports on the business related to technology news, analysis of emerging trends and profiling of new tech businesses and products. Their event i.e. Startup Battlefield is the world’s pre-eminent startup competition. Startup Battlefield features 15-30 top early stage startups pitching top judges in front of a vast live audience, present in person and online.</p>\n",
    "    \n",
    "<b>DATA DESCRIPTION</b>: CompanyX_EU.csv - Each row in the dataset is a Start-up company and the columns describe the company. \n",
    "\n",
    "<b>DATA DICTIONARY:</b>\n",
    "1. Startup: Name of the company\n",
    "2. Product: Actual product\n",
    "3. Funding: Funds raised by the company in USD\n",
    "4. Event: The event the company participated in\n",
    "5. Result: Described by Contestant, Finalist, Audience choice, Winner or Runner up\n",
    "6. OperatingState: Current status of the company, Operating ,Closed, Acquired or IPO\n",
    "\n",
    "<b>PROJECT OBJECTIVE:</b> Analyse the data of the various companies from the given dataset and perform the tasks that are specified in the below steps. Draw insights from the various attributes that are present in the dataset, plot distributions, state hypotheses and draw conclusions from the dataset\n"
   ]
  },
  {
   "cell_type": "markdown",
   "id": "47b51460",
   "metadata": {},
   "source": [
    "# 1. Read the CSV File\n"
   ]
  },
  {
   "cell_type": "code",
   "execution_count": 113,
   "id": "0fb3f92a",
   "metadata": {},
   "outputs": [],
   "source": [
    "# Importing data from local\n",
    "company = pd.read_csv(\"CompanyX_EU.csv\")"
   ]
  },
  {
   "cell_type": "markdown",
   "id": "69eed022",
   "metadata": {},
   "source": [
    "# 2. Data Exploration:\n",
    "\n",
    "A. Check the datatypes of each attribute.\n",
    "B. Check for null values in the attributes."
   ]
  },
  {
   "cell_type": "code",
   "execution_count": 114,
   "id": "e2c1c890",
   "metadata": {},
   "outputs": [
    {
     "data": {
      "text/plain": [
       "(662, 6)"
      ]
     },
     "execution_count": 114,
     "metadata": {},
     "output_type": "execute_result"
    }
   ],
   "source": [
    "company.shape"
   ]
  },
  {
   "cell_type": "code",
   "execution_count": 115,
   "id": "247c2ab5",
   "metadata": {},
   "outputs": [
    {
     "name": "stdout",
     "output_type": "stream",
     "text": [
      "<class 'pandas.core.frame.DataFrame'>\n",
      "RangeIndex: 662 entries, 0 to 661\n",
      "Data columns (total 6 columns):\n",
      " #   Column          Non-Null Count  Dtype \n",
      "---  ------          --------------  ----- \n",
      " 0   Startup         662 non-null    object\n",
      " 1   Product         656 non-null    object\n",
      " 2   Funding         448 non-null    object\n",
      " 3   Event           662 non-null    object\n",
      " 4   Result          662 non-null    object\n",
      " 5   OperatingState  662 non-null    object\n",
      "dtypes: object(6)\n",
      "memory usage: 31.2+ KB\n"
     ]
    }
   ],
   "source": [
    "company.info()"
   ]
  },
  {
   "cell_type": "code",
   "execution_count": 177,
   "id": "03451933",
   "metadata": {},
   "outputs": [
    {
     "data": {
      "text/html": [
       "<div>\n",
       "<style scoped>\n",
       "    .dataframe tbody tr th:only-of-type {\n",
       "        vertical-align: middle;\n",
       "    }\n",
       "\n",
       "    .dataframe tbody tr th {\n",
       "        vertical-align: top;\n",
       "    }\n",
       "\n",
       "    .dataframe thead th {\n",
       "        text-align: right;\n",
       "    }\n",
       "</style>\n",
       "<table border=\"1\" class=\"dataframe\">\n",
       "  <thead>\n",
       "    <tr style=\"text-align: right;\">\n",
       "      <th></th>\n",
       "      <th>Startup</th>\n",
       "      <th>Product</th>\n",
       "      <th>Funding</th>\n",
       "      <th>Event</th>\n",
       "      <th>Result</th>\n",
       "      <th>OperatingState</th>\n",
       "    </tr>\n",
       "  </thead>\n",
       "  <tbody>\n",
       "    <tr>\n",
       "      <th>0</th>\n",
       "      <td>2600Hz</td>\n",
       "      <td>2600hz.com</td>\n",
       "      <td>NaN</td>\n",
       "      <td>Disrupt SF 2013</td>\n",
       "      <td>Contestant</td>\n",
       "      <td>Operating</td>\n",
       "    </tr>\n",
       "    <tr>\n",
       "      <th>1</th>\n",
       "      <td>3DLT</td>\n",
       "      <td>3dlt.com</td>\n",
       "      <td>$630K</td>\n",
       "      <td>Disrupt NYC 2013</td>\n",
       "      <td>Contestant</td>\n",
       "      <td>Closed</td>\n",
       "    </tr>\n",
       "    <tr>\n",
       "      <th>2</th>\n",
       "      <td>3DPrinterOS</td>\n",
       "      <td>3dprinteros.com</td>\n",
       "      <td>NaN</td>\n",
       "      <td>Disrupt SF 2016</td>\n",
       "      <td>Contestant</td>\n",
       "      <td>Operating</td>\n",
       "    </tr>\n",
       "    <tr>\n",
       "      <th>3</th>\n",
       "      <td>3Dprintler</td>\n",
       "      <td>3dprintler.com</td>\n",
       "      <td>$1M</td>\n",
       "      <td>Disrupt NY 2016</td>\n",
       "      <td>Audience choice</td>\n",
       "      <td>Operating</td>\n",
       "    </tr>\n",
       "    <tr>\n",
       "      <th>4</th>\n",
       "      <td>42 Technologies</td>\n",
       "      <td>42technologies.com</td>\n",
       "      <td>NaN</td>\n",
       "      <td>Disrupt NYC 2013</td>\n",
       "      <td>Contestant</td>\n",
       "      <td>Operating</td>\n",
       "    </tr>\n",
       "  </tbody>\n",
       "</table>\n",
       "</div>"
      ],
      "text/plain": [
       "           Startup             Product Funding             Event  \\\n",
       "0           2600Hz          2600hz.com     NaN   Disrupt SF 2013   \n",
       "1             3DLT            3dlt.com   $630K  Disrupt NYC 2013   \n",
       "2      3DPrinterOS     3dprinteros.com     NaN   Disrupt SF 2016   \n",
       "3       3Dprintler      3dprintler.com     $1M   Disrupt NY 2016   \n",
       "4  42 Technologies  42technologies.com     NaN  Disrupt NYC 2013   \n",
       "\n",
       "            Result OperatingState  \n",
       "0       Contestant      Operating  \n",
       "1       Contestant         Closed  \n",
       "2       Contestant      Operating  \n",
       "3  Audience choice      Operating  \n",
       "4       Contestant      Operating  "
      ]
     },
     "execution_count": 177,
     "metadata": {},
     "output_type": "execute_result"
    }
   ],
   "source": [
    "company.head()"
   ]
  },
  {
   "cell_type": "code",
   "execution_count": 117,
   "id": "b16eba6f",
   "metadata": {},
   "outputs": [
    {
     "data": {
      "text/html": [
       "<div>\n",
       "<style scoped>\n",
       "    .dataframe tbody tr th:only-of-type {\n",
       "        vertical-align: middle;\n",
       "    }\n",
       "\n",
       "    .dataframe tbody tr th {\n",
       "        vertical-align: top;\n",
       "    }\n",
       "\n",
       "    .dataframe thead th {\n",
       "        text-align: right;\n",
       "    }\n",
       "</style>\n",
       "<table border=\"1\" class=\"dataframe\">\n",
       "  <thead>\n",
       "    <tr style=\"text-align: right;\">\n",
       "      <th></th>\n",
       "      <th>Startup</th>\n",
       "      <th>Product</th>\n",
       "      <th>Funding</th>\n",
       "      <th>Event</th>\n",
       "      <th>Result</th>\n",
       "      <th>OperatingState</th>\n",
       "    </tr>\n",
       "  </thead>\n",
       "  <tbody>\n",
       "    <tr>\n",
       "      <th>657</th>\n",
       "      <td>Zivity</td>\n",
       "      <td>zivity.com</td>\n",
       "      <td>$8M</td>\n",
       "      <td>TC40 2007</td>\n",
       "      <td>Contestant</td>\n",
       "      <td>Operating</td>\n",
       "    </tr>\n",
       "    <tr>\n",
       "      <th>658</th>\n",
       "      <td>Zmorph</td>\n",
       "      <td>zmorph3d.com</td>\n",
       "      <td>$1M</td>\n",
       "      <td>-</td>\n",
       "      <td>Audience choice</td>\n",
       "      <td>Operating</td>\n",
       "    </tr>\n",
       "    <tr>\n",
       "      <th>659</th>\n",
       "      <td>Zocdoc</td>\n",
       "      <td>zocdoc.com</td>\n",
       "      <td>$223M</td>\n",
       "      <td>TC40 2007</td>\n",
       "      <td>Contestant</td>\n",
       "      <td>Operating</td>\n",
       "    </tr>\n",
       "    <tr>\n",
       "      <th>660</th>\n",
       "      <td>Zula</td>\n",
       "      <td>zulaapp.com</td>\n",
       "      <td>$3.4M</td>\n",
       "      <td>Disrupt SF 2013</td>\n",
       "      <td>Audience choice</td>\n",
       "      <td>Operating</td>\n",
       "    </tr>\n",
       "    <tr>\n",
       "      <th>661</th>\n",
       "      <td>Zumper</td>\n",
       "      <td>zumper.com</td>\n",
       "      <td>$31.5M</td>\n",
       "      <td>Disrupt SF 2012</td>\n",
       "      <td>Finalist</td>\n",
       "      <td>Operating</td>\n",
       "    </tr>\n",
       "  </tbody>\n",
       "</table>\n",
       "</div>"
      ],
      "text/plain": [
       "    Startup       Product Funding            Event           Result  \\\n",
       "657  Zivity    zivity.com     $8M        TC40 2007       Contestant   \n",
       "658  Zmorph  zmorph3d.com     $1M                -  Audience choice   \n",
       "659  Zocdoc    zocdoc.com   $223M        TC40 2007       Contestant   \n",
       "660    Zula   zulaapp.com   $3.4M  Disrupt SF 2013  Audience choice   \n",
       "661  Zumper    zumper.com  $31.5M  Disrupt SF 2012         Finalist   \n",
       "\n",
       "    OperatingState  \n",
       "657      Operating  \n",
       "658      Operating  \n",
       "659      Operating  \n",
       "660      Operating  \n",
       "661      Operating  "
      ]
     },
     "execution_count": 117,
     "metadata": {},
     "output_type": "execute_result"
    }
   ],
   "source": [
    "company.tail()"
   ]
  },
  {
   "cell_type": "markdown",
   "id": "c075c6b5",
   "metadata": {},
   "source": [
    "### B. Check for null values in the attributes.\n",
    "\n",
    "Observation from the above data.info() The columns Product and Funding have null values. Calculating how many below:"
   ]
  },
  {
   "cell_type": "code",
   "execution_count": 118,
   "id": "620d3b87",
   "metadata": {},
   "outputs": [
    {
     "data": {
      "text/plain": [
       "6"
      ]
     },
     "execution_count": 118,
     "metadata": {},
     "output_type": "execute_result"
    }
   ],
   "source": [
    "company['Product'].isnull().sum()"
   ]
  },
  {
   "cell_type": "code",
   "execution_count": 95,
   "id": "6cd4ee91",
   "metadata": {},
   "outputs": [
    {
     "data": {
      "text/plain": [
       "214"
      ]
     },
     "execution_count": 95,
     "metadata": {},
     "output_type": "execute_result"
    }
   ],
   "source": [
    "company['Funding'].isnull().sum()"
   ]
  },
  {
   "cell_type": "markdown",
   "id": "bd965316",
   "metadata": {},
   "source": [
    "## 3. Data preprocessing & visualisation: [4 Marks]\n",
    "A. Drop the null values. [1 Mark]\n",
    "\n",
    "B. Convert the ‘Funding’ features to a numerical value"
   ]
  },
  {
   "cell_type": "code",
   "execution_count": 119,
   "id": "59475928",
   "metadata": {},
   "outputs": [
    {
     "name": "stdout",
     "output_type": "stream",
     "text": [
      "<class 'pandas.core.frame.DataFrame'>\n",
      "Int64Index: 446 entries, 1 to 661\n",
      "Data columns (total 6 columns):\n",
      " #   Column          Non-Null Count  Dtype \n",
      "---  ------          --------------  ----- \n",
      " 0   Startup         446 non-null    object\n",
      " 1   Product         446 non-null    object\n",
      " 2   Funding         446 non-null    object\n",
      " 3   Event           446 non-null    object\n",
      " 4   Result          446 non-null    object\n",
      " 5   OperatingState  446 non-null    object\n",
      "dtypes: object(6)\n",
      "memory usage: 24.4+ KB\n"
     ]
    }
   ],
   "source": [
    "#A. \n",
    "\n",
    "company_1 =company.dropna()\n",
    "company_1.info()"
   ]
  },
  {
   "cell_type": "code",
   "execution_count": 196,
   "id": "0fc9f339",
   "metadata": {},
   "outputs": [
    {
     "data": {
      "text/html": [
       "<div>\n",
       "<style scoped>\n",
       "    .dataframe tbody tr th:only-of-type {\n",
       "        vertical-align: middle;\n",
       "    }\n",
       "\n",
       "    .dataframe tbody tr th {\n",
       "        vertical-align: top;\n",
       "    }\n",
       "\n",
       "    .dataframe thead th {\n",
       "        text-align: right;\n",
       "    }\n",
       "</style>\n",
       "<table border=\"1\" class=\"dataframe\">\n",
       "  <thead>\n",
       "    <tr style=\"text-align: right;\">\n",
       "      <th></th>\n",
       "      <th>Startup</th>\n",
       "      <th>Product</th>\n",
       "      <th>Funding</th>\n",
       "      <th>Event</th>\n",
       "      <th>Result</th>\n",
       "      <th>OperatingState</th>\n",
       "      <th>Funds_in_million</th>\n",
       "    </tr>\n",
       "  </thead>\n",
       "  <tbody>\n",
       "    <tr>\n",
       "      <th>1</th>\n",
       "      <td>3DLT</td>\n",
       "      <td>3dlt.com</td>\n",
       "      <td>$630K</td>\n",
       "      <td>Disrupt NYC 2013</td>\n",
       "      <td>Contestant</td>\n",
       "      <td>Closed</td>\n",
       "      <td>0.630</td>\n",
       "    </tr>\n",
       "    <tr>\n",
       "      <th>3</th>\n",
       "      <td>3Dprintler</td>\n",
       "      <td>3dprintler.com</td>\n",
       "      <td>$1M</td>\n",
       "      <td>Disrupt NY 2016</td>\n",
       "      <td>Audience choice</td>\n",
       "      <td>Operating</td>\n",
       "      <td>1.000</td>\n",
       "    </tr>\n",
       "    <tr>\n",
       "      <th>5</th>\n",
       "      <td>5to1</td>\n",
       "      <td>5to1.com</td>\n",
       "      <td>$19.3M</td>\n",
       "      <td>TC50 2009</td>\n",
       "      <td>Contestant</td>\n",
       "      <td>Acquired</td>\n",
       "      <td>19.300</td>\n",
       "    </tr>\n",
       "    <tr>\n",
       "      <th>6</th>\n",
       "      <td>8 Securities</td>\n",
       "      <td>8securities.com</td>\n",
       "      <td>$29M</td>\n",
       "      <td>Disrupt Beijing 2011</td>\n",
       "      <td>Finalist</td>\n",
       "      <td>Operating</td>\n",
       "      <td>29.000</td>\n",
       "    </tr>\n",
       "    <tr>\n",
       "      <th>10</th>\n",
       "      <td>AdhereTech</td>\n",
       "      <td>adheretech.com</td>\n",
       "      <td>$1.8M</td>\n",
       "      <td>Hardware Battlefield 2014</td>\n",
       "      <td>Contestant</td>\n",
       "      <td>Operating</td>\n",
       "      <td>1.800</td>\n",
       "    </tr>\n",
       "    <tr>\n",
       "      <th>...</th>\n",
       "      <td>...</td>\n",
       "      <td>...</td>\n",
       "      <td>...</td>\n",
       "      <td>...</td>\n",
       "      <td>...</td>\n",
       "      <td>...</td>\n",
       "      <td>...</td>\n",
       "    </tr>\n",
       "    <tr>\n",
       "      <th>657</th>\n",
       "      <td>Zivity</td>\n",
       "      <td>zivity.com</td>\n",
       "      <td>$8M</td>\n",
       "      <td>TC40 2007</td>\n",
       "      <td>Contestant</td>\n",
       "      <td>Operating</td>\n",
       "      <td>8.000</td>\n",
       "    </tr>\n",
       "    <tr>\n",
       "      <th>658</th>\n",
       "      <td>Zmorph</td>\n",
       "      <td>zmorph3d.com</td>\n",
       "      <td>$1M</td>\n",
       "      <td>-</td>\n",
       "      <td>Audience choice</td>\n",
       "      <td>Operating</td>\n",
       "      <td>1.000</td>\n",
       "    </tr>\n",
       "    <tr>\n",
       "      <th>659</th>\n",
       "      <td>Zocdoc</td>\n",
       "      <td>zocdoc.com</td>\n",
       "      <td>$223M</td>\n",
       "      <td>TC40 2007</td>\n",
       "      <td>Contestant</td>\n",
       "      <td>Operating</td>\n",
       "      <td>223.000</td>\n",
       "    </tr>\n",
       "    <tr>\n",
       "      <th>660</th>\n",
       "      <td>Zula</td>\n",
       "      <td>zulaapp.com</td>\n",
       "      <td>$3.4M</td>\n",
       "      <td>Disrupt SF 2013</td>\n",
       "      <td>Audience choice</td>\n",
       "      <td>Operating</td>\n",
       "      <td>3.400</td>\n",
       "    </tr>\n",
       "    <tr>\n",
       "      <th>661</th>\n",
       "      <td>Zumper</td>\n",
       "      <td>zumper.com</td>\n",
       "      <td>$31.5M</td>\n",
       "      <td>Disrupt SF 2012</td>\n",
       "      <td>Finalist</td>\n",
       "      <td>Operating</td>\n",
       "      <td>31.500</td>\n",
       "    </tr>\n",
       "  </tbody>\n",
       "</table>\n",
       "<p>446 rows × 7 columns</p>\n",
       "</div>"
      ],
      "text/plain": [
       "          Startup          Product Funding                      Event  \\\n",
       "1            3DLT         3dlt.com   $630K           Disrupt NYC 2013   \n",
       "3      3Dprintler   3dprintler.com     $1M            Disrupt NY 2016   \n",
       "5            5to1         5to1.com  $19.3M                  TC50 2009   \n",
       "6    8 Securities  8securities.com    $29M       Disrupt Beijing 2011   \n",
       "10     AdhereTech   adheretech.com   $1.8M  Hardware Battlefield 2014   \n",
       "..            ...              ...     ...                        ...   \n",
       "657        Zivity       zivity.com     $8M                  TC40 2007   \n",
       "658        Zmorph     zmorph3d.com     $1M                          -   \n",
       "659        Zocdoc       zocdoc.com   $223M                  TC40 2007   \n",
       "660          Zula      zulaapp.com   $3.4M            Disrupt SF 2013   \n",
       "661        Zumper       zumper.com  $31.5M            Disrupt SF 2012   \n",
       "\n",
       "              Result OperatingState  Funds_in_million  \n",
       "1         Contestant         Closed             0.630  \n",
       "3    Audience choice      Operating             1.000  \n",
       "5         Contestant       Acquired            19.300  \n",
       "6           Finalist      Operating            29.000  \n",
       "10        Contestant      Operating             1.800  \n",
       "..               ...            ...               ...  \n",
       "657       Contestant      Operating             8.000  \n",
       "658  Audience choice      Operating             1.000  \n",
       "659       Contestant      Operating           223.000  \n",
       "660  Audience choice      Operating             3.400  \n",
       "661         Finalist      Operating            31.500  \n",
       "\n",
       "[446 rows x 7 columns]"
      ]
     },
     "execution_count": 196,
     "metadata": {},
     "output_type": "execute_result"
    }
   ],
   "source": [
    "company_1.loc[:, 'Funds_in_million'] = company_1['Funding'].apply(lambda x: float(x[1:-1])/1000 if x[-1] == 'K' else (float(x[1:-1]) if x[-1] != 'B' else float(x[1:-1])*1000))\n",
    "company_1"
   ]
  },
  {
   "cell_type": "code",
   "execution_count": 197,
   "id": "1e102bd0",
   "metadata": {},
   "outputs": [],
   "source": [
    "#B.\n",
    "\n",
    "company_1 = company_1.copy()\n",
    "\n",
    "company_1[\"Funding\"] = company_1[\"Funding\"].astype(str)\n"
   ]
  },
  {
   "cell_type": "code",
   "execution_count": 198,
   "id": "37722cfb",
   "metadata": {},
   "outputs": [
    {
     "data": {
      "text/html": [
       "<div>\n",
       "<style scoped>\n",
       "    .dataframe tbody tr th:only-of-type {\n",
       "        vertical-align: middle;\n",
       "    }\n",
       "\n",
       "    .dataframe tbody tr th {\n",
       "        vertical-align: top;\n",
       "    }\n",
       "\n",
       "    .dataframe thead th {\n",
       "        text-align: right;\n",
       "    }\n",
       "</style>\n",
       "<table border=\"1\" class=\"dataframe\">\n",
       "  <thead>\n",
       "    <tr style=\"text-align: right;\">\n",
       "      <th></th>\n",
       "      <th>Startup</th>\n",
       "      <th>Product</th>\n",
       "      <th>Funding</th>\n",
       "      <th>Event</th>\n",
       "      <th>Result</th>\n",
       "      <th>OperatingState</th>\n",
       "      <th>Funds_in_million</th>\n",
       "    </tr>\n",
       "  </thead>\n",
       "  <tbody>\n",
       "    <tr>\n",
       "      <th>1</th>\n",
       "      <td>3DLT</td>\n",
       "      <td>3dlt.com</td>\n",
       "      <td>$630K</td>\n",
       "      <td>Disrupt NYC 2013</td>\n",
       "      <td>Contestant</td>\n",
       "      <td>Closed</td>\n",
       "      <td>0.630</td>\n",
       "    </tr>\n",
       "    <tr>\n",
       "      <th>3</th>\n",
       "      <td>3Dprintler</td>\n",
       "      <td>3dprintler.com</td>\n",
       "      <td>$1M</td>\n",
       "      <td>Disrupt NY 2016</td>\n",
       "      <td>Audience choice</td>\n",
       "      <td>Operating</td>\n",
       "      <td>1.000</td>\n",
       "    </tr>\n",
       "    <tr>\n",
       "      <th>5</th>\n",
       "      <td>5to1</td>\n",
       "      <td>5to1.com</td>\n",
       "      <td>$19.3M</td>\n",
       "      <td>TC50 2009</td>\n",
       "      <td>Contestant</td>\n",
       "      <td>Acquired</td>\n",
       "      <td>19.300</td>\n",
       "    </tr>\n",
       "    <tr>\n",
       "      <th>6</th>\n",
       "      <td>8 Securities</td>\n",
       "      <td>8securities.com</td>\n",
       "      <td>$29M</td>\n",
       "      <td>Disrupt Beijing 2011</td>\n",
       "      <td>Finalist</td>\n",
       "      <td>Operating</td>\n",
       "      <td>29.000</td>\n",
       "    </tr>\n",
       "    <tr>\n",
       "      <th>10</th>\n",
       "      <td>AdhereTech</td>\n",
       "      <td>adheretech.com</td>\n",
       "      <td>$1.8M</td>\n",
       "      <td>Hardware Battlefield 2014</td>\n",
       "      <td>Contestant</td>\n",
       "      <td>Operating</td>\n",
       "      <td>1.800</td>\n",
       "    </tr>\n",
       "    <tr>\n",
       "      <th>...</th>\n",
       "      <td>...</td>\n",
       "      <td>...</td>\n",
       "      <td>...</td>\n",
       "      <td>...</td>\n",
       "      <td>...</td>\n",
       "      <td>...</td>\n",
       "      <td>...</td>\n",
       "    </tr>\n",
       "    <tr>\n",
       "      <th>657</th>\n",
       "      <td>Zivity</td>\n",
       "      <td>zivity.com</td>\n",
       "      <td>$8M</td>\n",
       "      <td>TC40 2007</td>\n",
       "      <td>Contestant</td>\n",
       "      <td>Operating</td>\n",
       "      <td>8.000</td>\n",
       "    </tr>\n",
       "    <tr>\n",
       "      <th>658</th>\n",
       "      <td>Zmorph</td>\n",
       "      <td>zmorph3d.com</td>\n",
       "      <td>$1M</td>\n",
       "      <td>-</td>\n",
       "      <td>Audience choice</td>\n",
       "      <td>Operating</td>\n",
       "      <td>1.000</td>\n",
       "    </tr>\n",
       "    <tr>\n",
       "      <th>659</th>\n",
       "      <td>Zocdoc</td>\n",
       "      <td>zocdoc.com</td>\n",
       "      <td>$223M</td>\n",
       "      <td>TC40 2007</td>\n",
       "      <td>Contestant</td>\n",
       "      <td>Operating</td>\n",
       "      <td>223.000</td>\n",
       "    </tr>\n",
       "    <tr>\n",
       "      <th>660</th>\n",
       "      <td>Zula</td>\n",
       "      <td>zulaapp.com</td>\n",
       "      <td>$3.4M</td>\n",
       "      <td>Disrupt SF 2013</td>\n",
       "      <td>Audience choice</td>\n",
       "      <td>Operating</td>\n",
       "      <td>3.400</td>\n",
       "    </tr>\n",
       "    <tr>\n",
       "      <th>661</th>\n",
       "      <td>Zumper</td>\n",
       "      <td>zumper.com</td>\n",
       "      <td>$31.5M</td>\n",
       "      <td>Disrupt SF 2012</td>\n",
       "      <td>Finalist</td>\n",
       "      <td>Operating</td>\n",
       "      <td>31.500</td>\n",
       "    </tr>\n",
       "  </tbody>\n",
       "</table>\n",
       "<p>446 rows × 7 columns</p>\n",
       "</div>"
      ],
      "text/plain": [
       "          Startup          Product Funding                      Event  \\\n",
       "1            3DLT         3dlt.com   $630K           Disrupt NYC 2013   \n",
       "3      3Dprintler   3dprintler.com     $1M            Disrupt NY 2016   \n",
       "5            5to1         5to1.com  $19.3M                  TC50 2009   \n",
       "6    8 Securities  8securities.com    $29M       Disrupt Beijing 2011   \n",
       "10     AdhereTech   adheretech.com   $1.8M  Hardware Battlefield 2014   \n",
       "..            ...              ...     ...                        ...   \n",
       "657        Zivity       zivity.com     $8M                  TC40 2007   \n",
       "658        Zmorph     zmorph3d.com     $1M                          -   \n",
       "659        Zocdoc       zocdoc.com   $223M                  TC40 2007   \n",
       "660          Zula      zulaapp.com   $3.4M            Disrupt SF 2013   \n",
       "661        Zumper       zumper.com  $31.5M            Disrupt SF 2012   \n",
       "\n",
       "              Result OperatingState  Funds_in_million  \n",
       "1         Contestant         Closed             0.630  \n",
       "3    Audience choice      Operating             1.000  \n",
       "5         Contestant       Acquired            19.300  \n",
       "6           Finalist      Operating            29.000  \n",
       "10        Contestant      Operating             1.800  \n",
       "..               ...            ...               ...  \n",
       "657       Contestant      Operating             8.000  \n",
       "658  Audience choice      Operating             1.000  \n",
       "659       Contestant      Operating           223.000  \n",
       "660  Audience choice      Operating             3.400  \n",
       "661         Finalist      Operating            31.500  \n",
       "\n",
       "[446 rows x 7 columns]"
      ]
     },
     "execution_count": 198,
     "metadata": {},
     "output_type": "execute_result"
    }
   ],
   "source": [
    "company_1"
   ]
  },
  {
   "cell_type": "markdown",
   "id": "4a3f4286",
   "metadata": {},
   "source": [
    "### 3. C. Plot box plot for funds in million. [1 Mark]"
   ]
  },
  {
   "cell_type": "code",
   "execution_count": 199,
   "id": "0b58c67a",
   "metadata": {},
   "outputs": [
    {
     "data": {
      "image/png": "[encoded data removed]",
      "text/plain": [
       "<Figure size 1000x500 with 1 Axes>"
      ]
     },
     "metadata": {},
     "output_type": "display_data"
    }
   ],
   "source": [
    "plt.figure(figsize=(10,5))\n",
    "sns.boxplot(data=company_1,y='Funds_in_million',showfliers=False) # turning off outliers\n",
    "plt.xticks(rotation=90)\n",
    "plt.show()"
   ]
  },
  {
   "cell_type": "markdown",
   "id": "0c61c620",
   "metadata": {},
   "source": [
    "### D. Check the number of outliers greater than the upper fence. [1 Mark]\n",
    "E. Check frequency of the OperatingState features classes. "
   ]
  },
  {
   "cell_type": "code",
   "execution_count": 200,
   "id": "99c012dd",
   "metadata": {},
   "outputs": [
    {
     "name": "stdout",
     "output_type": "stream",
     "text": [
      "The value of the upper fence of the box plot = 22.5696\n"
     ]
    }
   ],
   "source": [
    "#The upper fence of the box plot is given by\n",
    "#Upper_fence = Q3 + (1.5 * IQR)\n",
    "\n",
    "Q1 = np.percentile(company_1[\"Funds_in_million\"],25)\n",
    "Q3 = np.percentile(company_1[\"Funds_in_million\"],75)\n",
    "IQR = Q3-Q1\n",
    "Upper_fence = Q3 + (1.5 * IQR)\n",
    "print(\"The value of the upper fence of the box plot = %1.4f\" %Upper_fence)"
   ]
  },
  {
   "cell_type": "markdown",
   "id": "217c810a",
   "metadata": {},
   "source": [
    "###  E. Check frequency of the OperatingState features classes. [1 Mark]"
   ]
  },
  {
   "cell_type": "code",
   "execution_count": 201,
   "id": "bc726624",
   "metadata": {},
   "outputs": [
    {
     "data": {
      "text/plain": [
       "Operating    319\n",
       "Acquired      66\n",
       "Closed        57\n",
       "Ipo            4\n",
       "Name: OperatingState, dtype: int64"
      ]
     },
     "execution_count": 201,
     "metadata": {},
     "output_type": "execute_result"
    }
   ],
   "source": [
    "company_1['OperatingState'].value_counts()"
   ]
  },
  {
   "cell_type": "markdown",
   "id": "1114b239",
   "metadata": {},
   "source": [
    "## 4. Statistical Analysis: [10 Marks]\n",
    "A. Is there any significant difference between Funds raised by companies that are still operating vs companies that closed down? [1 Mark]\n",
    "\n",
    "B. Write the null hypothesis and alternative hypothesis. [1 Mark]\n",
    "\n",
    "C. Test for significance and conclusion [1 Mark]\n",
    "\n",
    "D. Make a copy of the original data frame. [1 Mark]\n",
    "\n",
    "E. Check frequency distribution of Result variables. [1 Mark]\n",
    "\n",
    "F. Calculate percentage of winners that are still operating and percentage of contestants that are still operating [1 Mark]\n",
    "\n",
    "G. Write your hypothesis comparing the proportion of companies that are operating between winners and contestants: [2 Mark]\n",
    "\n",
    "H. Test for significance and conclusion [1 Mark]\n",
    "\n",
    "I. Select only the Event that has ‘disrupt’ keyword from 2013 onwards. [1 Mark]"
   ]
  },
  {
   "cell_type": "code",
   "execution_count": 202,
   "id": "cf8ca386",
   "metadata": {},
   "outputs": [
    {
     "data": {
      "image/png": "[encoded data removed]",
      "text/plain": [
       "<Figure size 1000x500 with 1 Axes>"
      ]
     },
     "metadata": {},
     "output_type": "display_data"
    }
   ],
   "source": [
    "#A. \n",
    "import seaborn as sns\n",
    "import matplotlib.pyplot as plt\n",
    "\n",
    "plt.figure(figsize=(10, 5))\n",
    "sns.boxplot(data=company_1[company_1['OperatingState'].isin(['Operating', 'Closed'])], x='OperatingState', y='Funds_in_million', hue=\"OperatingState\")\n",
    "plt.xticks(rotation=90)\n",
    "plt.show()\n",
    "            "
   ]
  },
  {
   "cell_type": "markdown",
   "id": "39fe975f",
   "metadata": {},
   "source": [
    "### Observation :\n",
    "\n",
    "Funding for closed companies is significantly less than the ones that are still operating (Operating have on an average 2 Millions more funding than the clsoed ones)\n"
   ]
  },
  {
   "cell_type": "markdown",
   "id": "d0c8656b",
   "metadata": {},
   "source": [
    "### B. Write the null hypothesis and alternative hypothesis. [1 Mark"
   ]
  },
  {
   "cell_type": "code",
   "execution_count": 203,
   "id": "8a53d9ed",
   "metadata": {},
   "outputs": [],
   "source": [
    "h0=\"Funding for Operating companies is same as closed companies\"\n",
    "h1 =\"Funding for Operating companies is not the same as closed companies\""
   ]
  },
  {
   "cell_type": "markdown",
   "id": "cce18629",
   "metadata": {},
   "source": [
    "### C. Test for significance and conclusion [1 Mark]"
   ]
  },
  {
   "cell_type": "code",
   "execution_count": 204,
   "id": "d680e187",
   "metadata": {},
   "outputs": [
    {
     "data": {
      "text/plain": [
       "Ttest_indResult(statistic=-1.1382924515740138, pvalue=0.25572701885629406)"
      ]
     },
     "execution_count": 204,
     "metadata": {},
     "output_type": "execute_result"
    }
   ],
   "source": [
    "arr_Operating =np.array(company_1[company_1['OperatingState'] == 'Operating']['Funds_in_million'])\n",
    "arr_Closed =np.array(company_1[company_1['OperatingState'] == 'Closed']['Funds_in_million'])\n",
    "\n",
    "ttest_ind(arr_Closed, arr_Operating)\n"
   ]
  },
  {
   "cell_type": "markdown",
   "id": "38f2d2ab",
   "metadata": {},
   "source": [
    "As here we can see that the p-value is greater than 5% (Assuming level of significance at 5%) We fail to reject the Null HYpothesis. Hence we can't conclude if there is any significant difference between the funding of closed and operating companies."
   ]
  },
  {
   "cell_type": "markdown",
   "id": "96971748",
   "metadata": {},
   "source": [
    "### D. Make a copy of the original data frame. [1 Mark]"
   ]
  },
  {
   "cell_type": "code",
   "execution_count": 205,
   "id": "8ea30d1a",
   "metadata": {},
   "outputs": [
    {
     "name": "stdout",
     "output_type": "stream",
     "text": [
      "<class 'pandas.core.frame.DataFrame'>\n",
      "RangeIndex: 662 entries, 0 to 661\n",
      "Data columns (total 6 columns):\n",
      " #   Column          Non-Null Count  Dtype \n",
      "---  ------          --------------  ----- \n",
      " 0   Startup         662 non-null    object\n",
      " 1   Product         656 non-null    object\n",
      " 2   Funding         448 non-null    object\n",
      " 3   Event           662 non-null    object\n",
      " 4   Result          662 non-null    object\n",
      " 5   OperatingState  662 non-null    object\n",
      "dtypes: object(6)\n",
      "memory usage: 31.2+ KB\n"
     ]
    }
   ],
   "source": [
    "company_copy = company.copy()\n",
    "company_copy.info()"
   ]
  },
  {
   "cell_type": "markdown",
   "id": "5a89481f",
   "metadata": {},
   "source": [
    "### E. Check frequency distribution of Result variables. [1 Mark]"
   ]
  },
  {
   "cell_type": "code",
   "execution_count": 206,
   "id": "e29dbc8a",
   "metadata": {},
   "outputs": [
    {
     "data": {
      "text/plain": [
       "<Axes: xlabel='Result', ylabel='count'>"
      ]
     },
     "execution_count": 206,
     "metadata": {},
     "output_type": "execute_result"
    },
    {
     "data": {
      "image/png": "[encoded data removed]",
      "text/plain": [
       "<Figure size 640x480 with 1 Axes>"
      ]
     },
     "metadata": {},
     "output_type": "display_data"
    }
   ],
   "source": [
    "sns.countplot(data=company_copy, x=\"Result\")"
   ]
  },
  {
   "cell_type": "markdown",
   "id": "601241df",
   "metadata": {},
   "source": [
    "### F. Calculate percentage of winners that are still operating and percentage of contestants that are still operating [1 Mark]\n"
   ]
  },
  {
   "cell_type": "code",
   "execution_count": 207,
   "id": "73ced1dd",
   "metadata": {},
   "outputs": [
    {
     "data": {
      "text/plain": [
       "(26, 6)"
      ]
     },
     "execution_count": 207,
     "metadata": {},
     "output_type": "execute_result"
    }
   ],
   "source": [
    "winners=company_copy [company_copy['Result'] == 'Winner']\n",
    "winners.shape "
   ]
  },
  {
   "cell_type": "code",
   "execution_count": 208,
   "id": "584875e6",
   "metadata": {},
   "outputs": [
    {
     "data": {
      "text/plain": [
       "(488, 6)"
      ]
     },
     "execution_count": 208,
     "metadata": {},
     "output_type": "execute_result"
    }
   ],
   "source": [
    "contestants=company_copy [company_copy['Result'] == 'Contestant']\n",
    "contestants.shape "
   ]
  },
  {
   "cell_type": "code",
   "execution_count": 209,
   "id": "97a5571a",
   "metadata": {},
   "outputs": [
    {
     "data": {
      "text/plain": [
       "Operating    19\n",
       "Acquired      7\n",
       "Name: OperatingState, dtype: int64"
      ]
     },
     "execution_count": 209,
     "metadata": {},
     "output_type": "execute_result"
    }
   ],
   "source": [
    "winners['OperatingState'].value_counts()"
   ]
  },
  {
   "cell_type": "code",
   "execution_count": 210,
   "id": "a8937806",
   "metadata": {},
   "outputs": [
    {
     "data": {
      "text/plain": [
       "Operating    332\n",
       "Closed        90\n",
       "Acquired      62\n",
       "Ipo            4\n",
       "Name: OperatingState, dtype: int64"
      ]
     },
     "execution_count": 210,
     "metadata": {},
     "output_type": "execute_result"
    }
   ],
   "source": [
    "contestants['OperatingState'].value_counts()"
   ]
  },
  {
   "cell_type": "code",
   "execution_count": 211,
   "id": "5702498b",
   "metadata": {},
   "outputs": [
    {
     "name": "stdout",
     "output_type": "stream",
     "text": [
      "Percentage of winners still operating is :  73.08\n"
     ]
    }
   ],
   "source": [
    "#winners still operating \n",
    "winner_operatingPercentage= (winners['OperatingState'].value_counts()['Operating']/winners.shape[0])*100\n",
    "\n",
    "print ('Percentage of winners still operating is : % 1.2f' % winner_operatingPercentage)\n",
    "      "
   ]
  },
  {
   "cell_type": "code",
   "execution_count": 212,
   "id": "4cdb8a07",
   "metadata": {},
   "outputs": [
    {
     "name": "stdout",
     "output_type": "stream",
     "text": [
      "Percentage of Contestants still operating is :  68.03\n"
     ]
    }
   ],
   "source": [
    "#contestants still operating \n",
    "contestant_OperatingPercentage= (contestants['OperatingState'].value_counts()['Operating']/contestants.shape[0])*100\n",
    "print ('Percentage of Contestants still operating is : % 1.2f' % contestant_OperatingPercentage)\n"
   ]
  },
  {
   "cell_type": "markdown",
   "id": "4c3eca20",
   "metadata": {},
   "source": [
    "### G. Write your hypothesis comparing the proportion of companies that are operating between winners and contestants: [2 Mark]"
   ]
  },
  {
   "cell_type": "markdown",
   "id": "0bb41163",
   "metadata": {},
   "source": [
    "H0 = percentage of contestants operating is equal to percentage of winners operating \n",
    "\n",
    "H1 = percentage of contestants operating is not equal to percentage of winners operating "
   ]
  },
  {
   "cell_type": "markdown",
   "id": "56991be3",
   "metadata": {},
   "source": [
    "### H. Test for significance and conclusion [1 Mark]"
   ]
  },
  {
   "cell_type": "code",
   "execution_count": 213,
   "id": "aa88ebe4",
   "metadata": {},
   "outputs": [
    {
     "name": "stdout",
     "output_type": "stream",
     "text": [
      "488\n",
      "26\n",
      "0.73\n",
      "0.68\n"
     ]
    }
   ],
   "source": [
    "from statsmodels.stats.proportion import proportions_ztest    \n",
    "nContestants=contestants.shape[0]\n",
    "nWinners=   winners.shape[0]\n",
    "winner_operatingRatio =round( winners['OperatingState'].value_counts()['Operating']/winners.shape[0],2)\n",
    "contestant_OperatingRatio =round(contestants['OperatingState'].value_counts()['Operating']/contestants.shape[0],2)\n",
    "\n",
    "print(nContestants)\n",
    "print(nWinners)\n",
    "print(winner_operatingRatio)\n",
    "print(contestant_OperatingRatio)"
   ]
  },
  {
   "cell_type": "code",
   "execution_count": 214,
   "id": "a1468f39",
   "metadata": {},
   "outputs": [
    {
     "name": "stdout",
     "output_type": "stream",
     "text": [
      "Z-statistic: {stat}\n",
      "P-value: {p_value}\n"
     ]
    }
   ],
   "source": [
    "\n",
    "# Perform the z-test\n",
    "stat, p_value = proportions_ztest([winner_operatingRatio, contestant_OperatingRatio], [nWinners, nContestants])\n",
    "\n",
    "# Print the results\n",
    "print(\"Z-statistic: {stat}\")\n",
    "print(\"P-value: {p_value}\")"
   ]
  },
  {
   "cell_type": "markdown",
   "id": "9ed96c2c",
   "metadata": {},
   "source": [
    "Concluding Statements:\n",
    "Since the p-value is greater than 0.05 we fail to reject the null hypothesis.\n",
    "\n",
    "Hence we can say that there is no significant difference  between the percentage of contestants operating and percentage of winners operating. "
   ]
  },
  {
   "cell_type": "markdown",
   "id": "7eecaee5",
   "metadata": {},
   "source": [
    "### I. Select only the Event that has ‘disrupt’ keyword from 2013 onwards."
   ]
  },
  {
   "cell_type": "code",
   "execution_count": 228,
   "id": "20968258",
   "metadata": {},
   "outputs": [],
   "source": [
    "# This is a user-defined function for converting the present entries of \n",
    "def year_filter(event):  \n",
    "    # separate out the year part    \n",
    "  \n",
    "    return event[-4:]   "
   ]
  },
  {
   "cell_type": "code",
   "execution_count": 230,
   "id": "7bd0e9c5",
   "metadata": {},
   "outputs": [
    {
     "data": {
      "text/html": [
       "<div>\n",
       "<style scoped>\n",
       "    .dataframe tbody tr th:only-of-type {\n",
       "        vertical-align: middle;\n",
       "    }\n",
       "\n",
       "    .dataframe tbody tr th {\n",
       "        vertical-align: top;\n",
       "    }\n",
       "\n",
       "    .dataframe thead th {\n",
       "        text-align: right;\n",
       "    }\n",
       "</style>\n",
       "<table border=\"1\" class=\"dataframe\">\n",
       "  <thead>\n",
       "    <tr style=\"text-align: right;\">\n",
       "      <th></th>\n",
       "      <th>Startup</th>\n",
       "      <th>Product</th>\n",
       "      <th>Funding</th>\n",
       "      <th>Event</th>\n",
       "      <th>Result</th>\n",
       "      <th>OperatingState</th>\n",
       "      <th>Year</th>\n",
       "    </tr>\n",
       "  </thead>\n",
       "  <tbody>\n",
       "    <tr>\n",
       "      <th>0</th>\n",
       "      <td>2600Hz</td>\n",
       "      <td>2600hz.com</td>\n",
       "      <td>NaN</td>\n",
       "      <td>Disrupt SF 2013</td>\n",
       "      <td>Contestant</td>\n",
       "      <td>Operating</td>\n",
       "      <td>2013</td>\n",
       "    </tr>\n",
       "    <tr>\n",
       "      <th>1</th>\n",
       "      <td>3DLT</td>\n",
       "      <td>3dlt.com</td>\n",
       "      <td>$630K</td>\n",
       "      <td>Disrupt NYC 2013</td>\n",
       "      <td>Contestant</td>\n",
       "      <td>Closed</td>\n",
       "      <td>2013</td>\n",
       "    </tr>\n",
       "    <tr>\n",
       "      <th>2</th>\n",
       "      <td>3DPrinterOS</td>\n",
       "      <td>3dprinteros.com</td>\n",
       "      <td>NaN</td>\n",
       "      <td>Disrupt SF 2016</td>\n",
       "      <td>Contestant</td>\n",
       "      <td>Operating</td>\n",
       "      <td>2016</td>\n",
       "    </tr>\n",
       "    <tr>\n",
       "      <th>3</th>\n",
       "      <td>3Dprintler</td>\n",
       "      <td>3dprintler.com</td>\n",
       "      <td>$1M</td>\n",
       "      <td>Disrupt NY 2016</td>\n",
       "      <td>Audience choice</td>\n",
       "      <td>Operating</td>\n",
       "      <td>2016</td>\n",
       "    </tr>\n",
       "    <tr>\n",
       "      <th>4</th>\n",
       "      <td>42 Technologies</td>\n",
       "      <td>42technologies.com</td>\n",
       "      <td>NaN</td>\n",
       "      <td>Disrupt NYC 2013</td>\n",
       "      <td>Contestant</td>\n",
       "      <td>Operating</td>\n",
       "      <td>2013</td>\n",
       "    </tr>\n",
       "  </tbody>\n",
       "</table>\n",
       "</div>"
      ],
      "text/plain": [
       "           Startup             Product Funding             Event  \\\n",
       "0           2600Hz          2600hz.com     NaN   Disrupt SF 2013   \n",
       "1             3DLT            3dlt.com   $630K  Disrupt NYC 2013   \n",
       "2      3DPrinterOS     3dprinteros.com     NaN   Disrupt SF 2016   \n",
       "3       3Dprintler      3dprintler.com     $1M   Disrupt NY 2016   \n",
       "4  42 Technologies  42technologies.com     NaN  Disrupt NYC 2013   \n",
       "\n",
       "            Result OperatingState  Year  \n",
       "0       Contestant      Operating  2013  \n",
       "1       Contestant         Closed  2013  \n",
       "2       Contestant      Operating  2016  \n",
       "3  Audience choice      Operating  2016  \n",
       "4       Contestant      Operating  2013  "
      ]
     },
     "execution_count": 230,
     "metadata": {},
     "output_type": "execute_result"
    }
   ],
   "source": [
    "# Another column of Year is created from the event column which shall be used as filter\n",
    "\n",
    "company[\"Year\"] = company[\"Event\"].apply(year_filter)\n",
    "\n",
    "(company.head())\n"
   ]
  },
  {
   "cell_type": "code",
   "execution_count": 235,
   "id": "882e547e",
   "metadata": {
    "scrolled": true
   },
   "outputs": [
    {
     "data": {
      "text/html": [
       "<div>\n",
       "<style scoped>\n",
       "    .dataframe tbody tr th:only-of-type {\n",
       "        vertical-align: middle;\n",
       "    }\n",
       "\n",
       "    .dataframe tbody tr th {\n",
       "        vertical-align: top;\n",
       "    }\n",
       "\n",
       "    .dataframe thead th {\n",
       "        text-align: right;\n",
       "    }\n",
       "</style>\n",
       "<table border=\"1\" class=\"dataframe\">\n",
       "  <thead>\n",
       "    <tr style=\"text-align: right;\">\n",
       "      <th></th>\n",
       "      <th>Startup</th>\n",
       "      <th>Product</th>\n",
       "      <th>Funding</th>\n",
       "      <th>Event</th>\n",
       "      <th>Result</th>\n",
       "      <th>OperatingState</th>\n",
       "      <th>Year</th>\n",
       "    </tr>\n",
       "  </thead>\n",
       "  <tbody>\n",
       "    <tr>\n",
       "      <th>0</th>\n",
       "      <td>2600Hz</td>\n",
       "      <td>2600hz.com</td>\n",
       "      <td>NaN</td>\n",
       "      <td>Disrupt SF 2013</td>\n",
       "      <td>Contestant</td>\n",
       "      <td>Operating</td>\n",
       "      <td>2013.000</td>\n",
       "    </tr>\n",
       "    <tr>\n",
       "      <th>1</th>\n",
       "      <td>3DLT</td>\n",
       "      <td>3dlt.com</td>\n",
       "      <td>$630K</td>\n",
       "      <td>Disrupt NYC 2013</td>\n",
       "      <td>Contestant</td>\n",
       "      <td>Closed</td>\n",
       "      <td>2013.000</td>\n",
       "    </tr>\n",
       "    <tr>\n",
       "      <th>2</th>\n",
       "      <td>3DPrinterOS</td>\n",
       "      <td>3dprinteros.com</td>\n",
       "      <td>NaN</td>\n",
       "      <td>Disrupt SF 2016</td>\n",
       "      <td>Contestant</td>\n",
       "      <td>Operating</td>\n",
       "      <td>2016.000</td>\n",
       "    </tr>\n",
       "    <tr>\n",
       "      <th>3</th>\n",
       "      <td>3Dprintler</td>\n",
       "      <td>3dprintler.com</td>\n",
       "      <td>$1M</td>\n",
       "      <td>Disrupt NY 2016</td>\n",
       "      <td>Audience choice</td>\n",
       "      <td>Operating</td>\n",
       "      <td>2016.000</td>\n",
       "    </tr>\n",
       "    <tr>\n",
       "      <th>4</th>\n",
       "      <td>42 Technologies</td>\n",
       "      <td>42technologies.com</td>\n",
       "      <td>NaN</td>\n",
       "      <td>Disrupt NYC 2013</td>\n",
       "      <td>Contestant</td>\n",
       "      <td>Operating</td>\n",
       "      <td>2013.000</td>\n",
       "    </tr>\n",
       "  </tbody>\n",
       "</table>\n",
       "</div>"
      ],
      "text/plain": [
       "           Startup             Product Funding             Event  \\\n",
       "0           2600Hz          2600hz.com     NaN   Disrupt SF 2013   \n",
       "1             3DLT            3dlt.com   $630K  Disrupt NYC 2013   \n",
       "2      3DPrinterOS     3dprinteros.com     NaN   Disrupt SF 2016   \n",
       "3       3Dprintler      3dprintler.com     $1M   Disrupt NY 2016   \n",
       "4  42 Technologies  42technologies.com     NaN  Disrupt NYC 2013   \n",
       "\n",
       "            Result OperatingState     Year  \n",
       "0       Contestant      Operating 2013.000  \n",
       "1       Contestant         Closed 2013.000  \n",
       "2       Contestant      Operating 2016.000  \n",
       "3  Audience choice      Operating 2016.000  \n",
       "4       Contestant      Operating 2013.000  "
      ]
     },
     "execution_count": 235,
     "metadata": {},
     "output_type": "execute_result"
    }
   ],
   "source": [
    "#Filtering out the company that contains disrupt and occured from 2013 onwards\n",
    "company = company[(company['Event'].str.contains(\"Disrupt\")) & (company['Year'] >= 2013)]\n",
    "company.head()"
   ]
  },
  {
   "cell_type": "code",
   "execution_count": null,
   "id": "da9b933b",
   "metadata": {},
   "outputs": [],
   "source": []
  }
 ],
 "metadata": {
  "kernelspec": {
   "display_name": "Python 3 (ipykernel)",
   "language": "python",
   "name": "python3"
  },
  "language_info": {
   "codemirror_mode": {
    "name": "ipython",
    "version": 3
   },
   "file_extension": ".py",
   "mimetype": "text/x-python",
   "name": "python",
   "nbconvert_exporter": "python",
   "pygments_lexer": "ipython3",
   "version": "3.11.4"
  }
 },
 "nbformat": 4,
 "nbformat_minor": 5
}
